{
 "cells": [
  {
   "cell_type": "markdown",
   "id": "0ce42a0d",
   "metadata": {},
   "source": [
    "# Part 1: Analysis\n",
    "This file will try to explore the Amazon Customer Reviews Dataset.\n",
    "\n",
    "Data source: https://s3.amazonaws.com/amazon-reviews-pds/readme.html"
   ]
  },
  {
   "cell_type": "markdown",
   "id": "0ad45d1e",
   "metadata": {},
   "source": [
    "## Dependencies"
   ]
  },
  {
   "cell_type": "code",
   "execution_count": 1,
   "id": "9da6b71e",
   "metadata": {},
   "outputs": [],
   "source": [
    "# Basic packages\n",
    "import pandas as pd\n",
    "import numpy as np\n",
    "import os\n",
    "import datetime"
   ]
  },
  {
   "cell_type": "code",
   "execution_count": 2,
   "id": "68cdbc5f",
   "metadata": {},
   "outputs": [],
   "source": [
    "# Visualization\n",
    "import matplotlib.pyplot as plt\n",
    "import seaborn as sns"
   ]
  },
  {
   "cell_type": "code",
   "execution_count": 3,
   "id": "1e6fee03",
   "metadata": {},
   "outputs": [
    {
     "data": {
      "text/plain": [
       "{'divide': 'warn', 'over': 'warn', 'under': 'ignore', 'invalid': 'warn'}"
      ]
     },
     "execution_count": 3,
     "metadata": {},
     "output_type": "execute_result"
    }
   ],
   "source": [
    "np.seterr(divide = 'ignore') "
   ]
  },
  {
   "cell_type": "markdown",
   "id": "7c01deea",
   "metadata": {},
   "source": [
    "## Helper Functions"
   ]
  },
  {
   "cell_type": "code",
   "execution_count": 4,
   "id": "05b7dee7",
   "metadata": {},
   "outputs": [],
   "source": [
    "def colors_from_values(values, palette_name):\n",
    "    # normalize the values to range [0, 1]\n",
    "    normalized = (values - min(values)) / (max(values) - min(values))\n",
    "    # convert to indices\n",
    "    indices = np.round(normalized * (len(values) - 1)).astype(np.int32)\n",
    "    # use the indices to get the colors\n",
    "    palette = sns.color_palette(palette_name, len(values))\n",
    "    return np.array(palette).take(indices, axis=0)"
   ]
  },
  {
   "cell_type": "markdown",
   "id": "defb4fba",
   "metadata": {},
   "source": [
    "## Load Data"
   ]
  },
  {
   "cell_type": "code",
   "execution_count": 5,
   "id": "904e74e5",
   "metadata": {},
   "outputs": [],
   "source": [
    "filepath = os.path.join('data', 'amazon_reviews_us_Electronics_v1_00.tsv')\n",
    "raw_data = pd.read_csv(filepath, delimiter='\\t', on_bad_lines='skip')"
   ]
  },
  {
   "cell_type": "code",
   "execution_count": 6,
   "id": "7d936314",
   "metadata": {},
   "outputs": [
    {
     "name": "stdout",
     "output_type": "stream",
     "text": [
      "<class 'pandas.core.frame.DataFrame'>\n",
      "RangeIndex: 3091024 entries, 0 to 3091023\n",
      "Data columns (total 15 columns):\n",
      " #   Column             Dtype \n",
      "---  ------             ----- \n",
      " 0   marketplace        object\n",
      " 1   customer_id        int64 \n",
      " 2   review_id          object\n",
      " 3   product_id         object\n",
      " 4   product_parent     int64 \n",
      " 5   product_title      object\n",
      " 6   product_category   object\n",
      " 7   star_rating        int64 \n",
      " 8   helpful_votes      int64 \n",
      " 9   total_votes        int64 \n",
      " 10  vine               object\n",
      " 11  verified_purchase  object\n",
      " 12  review_headline    object\n",
      " 13  review_body        object\n",
      " 14  review_date        object\n",
      "dtypes: int64(5), object(10)\n",
      "memory usage: 353.7+ MB\n"
     ]
    }
   ],
   "source": [
    "raw_data.info()"
   ]
  },
  {
   "cell_type": "code",
   "execution_count": 7,
   "id": "35c544b9",
   "metadata": {},
   "outputs": [
    {
     "data": {
      "text/html": [
       "<div>\n",
       "<style scoped>\n",
       "    .dataframe tbody tr th:only-of-type {\n",
       "        vertical-align: middle;\n",
       "    }\n",
       "\n",
       "    .dataframe tbody tr th {\n",
       "        vertical-align: top;\n",
       "    }\n",
       "\n",
       "    .dataframe thead th {\n",
       "        text-align: right;\n",
       "    }\n",
       "</style>\n",
       "<table border=\"1\" class=\"dataframe\">\n",
       "  <thead>\n",
       "    <tr style=\"text-align: right;\">\n",
       "      <th></th>\n",
       "      <th>marketplace</th>\n",
       "      <th>customer_id</th>\n",
       "      <th>review_id</th>\n",
       "      <th>product_id</th>\n",
       "      <th>product_parent</th>\n",
       "      <th>product_title</th>\n",
       "      <th>product_category</th>\n",
       "      <th>star_rating</th>\n",
       "      <th>helpful_votes</th>\n",
       "      <th>total_votes</th>\n",
       "      <th>vine</th>\n",
       "      <th>verified_purchase</th>\n",
       "      <th>review_headline</th>\n",
       "      <th>review_body</th>\n",
       "      <th>review_date</th>\n",
       "    </tr>\n",
       "  </thead>\n",
       "  <tbody>\n",
       "    <tr>\n",
       "      <th>0</th>\n",
       "      <td>US</td>\n",
       "      <td>41409413</td>\n",
       "      <td>R2MTG1GCZLR2DK</td>\n",
       "      <td>B00428R89M</td>\n",
       "      <td>112201306</td>\n",
       "      <td>yoomall 5M Antenna WIFI RP-SMA Female to Male ...</td>\n",
       "      <td>Electronics</td>\n",
       "      <td>5</td>\n",
       "      <td>0</td>\n",
       "      <td>0</td>\n",
       "      <td>N</td>\n",
       "      <td>Y</td>\n",
       "      <td>Five Stars</td>\n",
       "      <td>As described.</td>\n",
       "      <td>2015-08-31</td>\n",
       "    </tr>\n",
       "    <tr>\n",
       "      <th>1</th>\n",
       "      <td>US</td>\n",
       "      <td>49668221</td>\n",
       "      <td>R2HBOEM8LE9928</td>\n",
       "      <td>B000068O48</td>\n",
       "      <td>734576678</td>\n",
       "      <td>Hosa GPM-103 3.5mm TRS to 1/4\" TRS Adaptor</td>\n",
       "      <td>Electronics</td>\n",
       "      <td>5</td>\n",
       "      <td>0</td>\n",
       "      <td>0</td>\n",
       "      <td>N</td>\n",
       "      <td>Y</td>\n",
       "      <td>It works as advertising.</td>\n",
       "      <td>It works as advertising.</td>\n",
       "      <td>2015-08-31</td>\n",
       "    </tr>\n",
       "    <tr>\n",
       "      <th>2</th>\n",
       "      <td>US</td>\n",
       "      <td>12338275</td>\n",
       "      <td>R1P4RW1R9FDPEE</td>\n",
       "      <td>B000GGKOG8</td>\n",
       "      <td>614448099</td>\n",
       "      <td>Channel Master Titan 2 Antenna Preamplifier</td>\n",
       "      <td>Electronics</td>\n",
       "      <td>5</td>\n",
       "      <td>1</td>\n",
       "      <td>1</td>\n",
       "      <td>N</td>\n",
       "      <td>Y</td>\n",
       "      <td>Five Stars</td>\n",
       "      <td>Works pissa</td>\n",
       "      <td>2015-08-31</td>\n",
       "    </tr>\n",
       "    <tr>\n",
       "      <th>3</th>\n",
       "      <td>US</td>\n",
       "      <td>38487968</td>\n",
       "      <td>R1EBPM82ENI67M</td>\n",
       "      <td>B000NU4OTA</td>\n",
       "      <td>72265257</td>\n",
       "      <td>LIMTECH Wall charger + USB Hotsync &amp; Charging ...</td>\n",
       "      <td>Electronics</td>\n",
       "      <td>1</td>\n",
       "      <td>0</td>\n",
       "      <td>0</td>\n",
       "      <td>N</td>\n",
       "      <td>Y</td>\n",
       "      <td>One Star</td>\n",
       "      <td>Did not work at all.</td>\n",
       "      <td>2015-08-31</td>\n",
       "    </tr>\n",
       "    <tr>\n",
       "      <th>4</th>\n",
       "      <td>US</td>\n",
       "      <td>23732619</td>\n",
       "      <td>R372S58V6D11AT</td>\n",
       "      <td>B00JOQIO6S</td>\n",
       "      <td>308169188</td>\n",
       "      <td>Skullcandy Air Raid Portable Bluetooth Speaker</td>\n",
       "      <td>Electronics</td>\n",
       "      <td>5</td>\n",
       "      <td>1</td>\n",
       "      <td>1</td>\n",
       "      <td>N</td>\n",
       "      <td>Y</td>\n",
       "      <td>Overall pleased with the item</td>\n",
       "      <td>Works well. Bass is somewhat lacking but is pr...</td>\n",
       "      <td>2015-08-31</td>\n",
       "    </tr>\n",
       "  </tbody>\n",
       "</table>\n",
       "</div>"
      ],
      "text/plain": [
       "  marketplace  customer_id       review_id  product_id  product_parent  \\\n",
       "0          US     41409413  R2MTG1GCZLR2DK  B00428R89M       112201306   \n",
       "1          US     49668221  R2HBOEM8LE9928  B000068O48       734576678   \n",
       "2          US     12338275  R1P4RW1R9FDPEE  B000GGKOG8       614448099   \n",
       "3          US     38487968  R1EBPM82ENI67M  B000NU4OTA        72265257   \n",
       "4          US     23732619  R372S58V6D11AT  B00JOQIO6S       308169188   \n",
       "\n",
       "                                       product_title product_category  \\\n",
       "0  yoomall 5M Antenna WIFI RP-SMA Female to Male ...      Electronics   \n",
       "1         Hosa GPM-103 3.5mm TRS to 1/4\" TRS Adaptor      Electronics   \n",
       "2        Channel Master Titan 2 Antenna Preamplifier      Electronics   \n",
       "3  LIMTECH Wall charger + USB Hotsync & Charging ...      Electronics   \n",
       "4     Skullcandy Air Raid Portable Bluetooth Speaker      Electronics   \n",
       "\n",
       "   star_rating  helpful_votes  total_votes vine verified_purchase  \\\n",
       "0            5              0            0    N                 Y   \n",
       "1            5              0            0    N                 Y   \n",
       "2            5              1            1    N                 Y   \n",
       "3            1              0            0    N                 Y   \n",
       "4            5              1            1    N                 Y   \n",
       "\n",
       "                 review_headline  \\\n",
       "0                     Five Stars   \n",
       "1       It works as advertising.   \n",
       "2                     Five Stars   \n",
       "3                       One Star   \n",
       "4  Overall pleased with the item   \n",
       "\n",
       "                                         review_body review_date  \n",
       "0                                      As described.  2015-08-31  \n",
       "1                           It works as advertising.  2015-08-31  \n",
       "2                                        Works pissa  2015-08-31  \n",
       "3                               Did not work at all.  2015-08-31  \n",
       "4  Works well. Bass is somewhat lacking but is pr...  2015-08-31  "
      ]
     },
     "execution_count": 7,
     "metadata": {},
     "output_type": "execute_result"
    }
   ],
   "source": [
    "raw_data.head()"
   ]
  },
  {
   "cell_type": "markdown",
   "id": "ddf120ab",
   "metadata": {},
   "source": [
    "This is a dataset with 3091024 observations with the following columns:"
   ]
  },
  {
   "cell_type": "markdown",
   "id": "ad27e037",
   "metadata": {},
   "source": [
    "DATA COLUMNS:\n",
    "- marketplace:        2 letter country code of the marketplace where the review was written.\n",
    "- customer_id:        Random identifier that can be used to aggregate reviews written by a single author.\n",
    "- review_id:          The unique ID of the review.\n",
    "- product_id:         The unique Product ID the review pertains to. In the multilingual dataset the reviews for the same product in different countries can be grouped by the same product_id.\n",
    "- product_parent:     Random identifier that can be used to aggregate reviews for the same product.\n",
    "- product_title:      Title of the product.\n",
    "- product_category:   Broad product category that can be used to group reviews (also used to group the dataset into coherent parts).\n",
    "- star_rating:        The 1-5 star rating of the review.\n",
    "- helpful_votes:      Number of helpful votes.\n",
    "- total_votes:        Number of total votes the review received.\n",
    "- vine:               Review was written as part of the Vine program.\n",
    "- verified_purchase:  The review is on a verified purchase.\n",
    "- review_headline:    The title of the review.\n",
    "- review_body:        The review text.\n",
    "- review_date:        The date the review was written."
   ]
  },
  {
   "cell_type": "markdown",
   "id": "3a4f1227",
   "metadata": {},
   "source": [
    "## Data Cleaning"
   ]
  },
  {
   "cell_type": "markdown",
   "id": "6e021140",
   "metadata": {},
   "source": [
    "### Missing Values"
   ]
  },
  {
   "cell_type": "code",
   "execution_count": 8,
   "id": "fa93f57b",
   "metadata": {},
   "outputs": [
    {
     "name": "stdout",
     "output_type": "stream",
     "text": [
      "missing values in column marketplace: 0\n",
      "missing values in column customer_id: 0\n",
      "missing values in column review_id: 0\n",
      "missing values in column product_id: 0\n",
      "missing values in column product_parent: 0\n",
      "missing values in column product_title: 4\n",
      "missing values in column product_category: 0\n",
      "missing values in column star_rating: 0\n",
      "missing values in column helpful_votes: 0\n",
      "missing values in column total_votes: 0\n",
      "missing values in column vine: 0\n",
      "missing values in column verified_purchase: 0\n",
      "missing values in column review_headline: 31\n",
      "missing values in column review_body: 88\n",
      "missing values in column review_date: 24\n"
     ]
    }
   ],
   "source": [
    "for col in raw_data:\n",
    "    missing_count = len(raw_data) - raw_data[col].count()\n",
    "    print(f\"missing values in column {col}: {missing_count}\")"
   ]
  },
  {
   "cell_type": "markdown",
   "id": "f8a3fe9d",
   "metadata": {},
   "source": [
    "Since there are very few missing values in the dataset, we directly delete those observations."
   ]
  },
  {
   "cell_type": "code",
   "execution_count": 9,
   "id": "4df29cfb",
   "metadata": {},
   "outputs": [],
   "source": [
    "data = raw_data.dropna()\n",
    "del raw_data # release memory"
   ]
  },
  {
   "cell_type": "markdown",
   "id": "43aa364f",
   "metadata": {},
   "source": [
    "### Duplicate Values"
   ]
  },
  {
   "cell_type": "code",
   "execution_count": 10,
   "id": "317b64ec",
   "metadata": {},
   "outputs": [],
   "source": [
    "data = data.drop_duplicates()"
   ]
  },
  {
   "cell_type": "markdown",
   "id": "1a2b2558",
   "metadata": {},
   "source": [
    "### Irrelevant Data\n",
    "Drop marketplace since this is a dataset of only US data, similar reason for product_category.\n",
    "\n",
    "Other dropping column is irrelevant to our analysis."
   ]
  },
  {
   "cell_type": "code",
   "execution_count": 11,
   "id": "7abd3a28",
   "metadata": {},
   "outputs": [],
   "source": [
    "irrelevant_columns = ['marketplace', 'product_parent', 'product_category']\n",
    "data.drop(irrelevant_columns, axis='columns', inplace=True)"
   ]
  },
  {
   "cell_type": "markdown",
   "id": "10f48d11",
   "metadata": {},
   "source": [
    "### Data Types"
   ]
  },
  {
   "cell_type": "code",
   "execution_count": 12,
   "id": "f472c871",
   "metadata": {},
   "outputs": [],
   "source": [
    "data['review_date'] = data['review_date'].astype('datetime64[ns]')"
   ]
  },
  {
   "cell_type": "markdown",
   "id": "793ba95c",
   "metadata": {},
   "source": [
    "## Univarate Analysis"
   ]
  },
  {
   "cell_type": "code",
   "execution_count": 13,
   "id": "654482b4",
   "metadata": {},
   "outputs": [
    {
     "data": {
      "text/html": [
       "<div>\n",
       "<style scoped>\n",
       "    .dataframe tbody tr th:only-of-type {\n",
       "        vertical-align: middle;\n",
       "    }\n",
       "\n",
       "    .dataframe tbody tr th {\n",
       "        vertical-align: top;\n",
       "    }\n",
       "\n",
       "    .dataframe thead th {\n",
       "        text-align: right;\n",
       "    }\n",
       "</style>\n",
       "<table border=\"1\" class=\"dataframe\">\n",
       "  <thead>\n",
       "    <tr style=\"text-align: right;\">\n",
       "      <th></th>\n",
       "      <th>customer_id</th>\n",
       "      <th>review_id</th>\n",
       "      <th>product_id</th>\n",
       "      <th>product_title</th>\n",
       "      <th>star_rating</th>\n",
       "      <th>helpful_votes</th>\n",
       "      <th>total_votes</th>\n",
       "      <th>vine</th>\n",
       "      <th>verified_purchase</th>\n",
       "      <th>review_headline</th>\n",
       "      <th>review_body</th>\n",
       "      <th>review_date</th>\n",
       "    </tr>\n",
       "  </thead>\n",
       "  <tbody>\n",
       "    <tr>\n",
       "      <th>0</th>\n",
       "      <td>41409413</td>\n",
       "      <td>R2MTG1GCZLR2DK</td>\n",
       "      <td>B00428R89M</td>\n",
       "      <td>yoomall 5M Antenna WIFI RP-SMA Female to Male ...</td>\n",
       "      <td>5</td>\n",
       "      <td>0</td>\n",
       "      <td>0</td>\n",
       "      <td>N</td>\n",
       "      <td>Y</td>\n",
       "      <td>Five Stars</td>\n",
       "      <td>As described.</td>\n",
       "      <td>2015-08-31</td>\n",
       "    </tr>\n",
       "    <tr>\n",
       "      <th>1</th>\n",
       "      <td>49668221</td>\n",
       "      <td>R2HBOEM8LE9928</td>\n",
       "      <td>B000068O48</td>\n",
       "      <td>Hosa GPM-103 3.5mm TRS to 1/4\" TRS Adaptor</td>\n",
       "      <td>5</td>\n",
       "      <td>0</td>\n",
       "      <td>0</td>\n",
       "      <td>N</td>\n",
       "      <td>Y</td>\n",
       "      <td>It works as advertising.</td>\n",
       "      <td>It works as advertising.</td>\n",
       "      <td>2015-08-31</td>\n",
       "    </tr>\n",
       "    <tr>\n",
       "      <th>2</th>\n",
       "      <td>12338275</td>\n",
       "      <td>R1P4RW1R9FDPEE</td>\n",
       "      <td>B000GGKOG8</td>\n",
       "      <td>Channel Master Titan 2 Antenna Preamplifier</td>\n",
       "      <td>5</td>\n",
       "      <td>1</td>\n",
       "      <td>1</td>\n",
       "      <td>N</td>\n",
       "      <td>Y</td>\n",
       "      <td>Five Stars</td>\n",
       "      <td>Works pissa</td>\n",
       "      <td>2015-08-31</td>\n",
       "    </tr>\n",
       "    <tr>\n",
       "      <th>3</th>\n",
       "      <td>38487968</td>\n",
       "      <td>R1EBPM82ENI67M</td>\n",
       "      <td>B000NU4OTA</td>\n",
       "      <td>LIMTECH Wall charger + USB Hotsync &amp; Charging ...</td>\n",
       "      <td>1</td>\n",
       "      <td>0</td>\n",
       "      <td>0</td>\n",
       "      <td>N</td>\n",
       "      <td>Y</td>\n",
       "      <td>One Star</td>\n",
       "      <td>Did not work at all.</td>\n",
       "      <td>2015-08-31</td>\n",
       "    </tr>\n",
       "    <tr>\n",
       "      <th>4</th>\n",
       "      <td>23732619</td>\n",
       "      <td>R372S58V6D11AT</td>\n",
       "      <td>B00JOQIO6S</td>\n",
       "      <td>Skullcandy Air Raid Portable Bluetooth Speaker</td>\n",
       "      <td>5</td>\n",
       "      <td>1</td>\n",
       "      <td>1</td>\n",
       "      <td>N</td>\n",
       "      <td>Y</td>\n",
       "      <td>Overall pleased with the item</td>\n",
       "      <td>Works well. Bass is somewhat lacking but is pr...</td>\n",
       "      <td>2015-08-31</td>\n",
       "    </tr>\n",
       "  </tbody>\n",
       "</table>\n",
       "</div>"
      ],
      "text/plain": [
       "   customer_id       review_id  product_id  \\\n",
       "0     41409413  R2MTG1GCZLR2DK  B00428R89M   \n",
       "1     49668221  R2HBOEM8LE9928  B000068O48   \n",
       "2     12338275  R1P4RW1R9FDPEE  B000GGKOG8   \n",
       "3     38487968  R1EBPM82ENI67M  B000NU4OTA   \n",
       "4     23732619  R372S58V6D11AT  B00JOQIO6S   \n",
       "\n",
       "                                       product_title  star_rating  \\\n",
       "0  yoomall 5M Antenna WIFI RP-SMA Female to Male ...            5   \n",
       "1         Hosa GPM-103 3.5mm TRS to 1/4\" TRS Adaptor            5   \n",
       "2        Channel Master Titan 2 Antenna Preamplifier            5   \n",
       "3  LIMTECH Wall charger + USB Hotsync & Charging ...            1   \n",
       "4     Skullcandy Air Raid Portable Bluetooth Speaker            5   \n",
       "\n",
       "   helpful_votes  total_votes vine verified_purchase  \\\n",
       "0              0            0    N                 Y   \n",
       "1              0            0    N                 Y   \n",
       "2              1            1    N                 Y   \n",
       "3              0            0    N                 Y   \n",
       "4              1            1    N                 Y   \n",
       "\n",
       "                 review_headline  \\\n",
       "0                     Five Stars   \n",
       "1       It works as advertising.   \n",
       "2                     Five Stars   \n",
       "3                       One Star   \n",
       "4  Overall pleased with the item   \n",
       "\n",
       "                                         review_body review_date  \n",
       "0                                      As described.  2015-08-31  \n",
       "1                           It works as advertising.  2015-08-31  \n",
       "2                                        Works pissa  2015-08-31  \n",
       "3                               Did not work at all.  2015-08-31  \n",
       "4  Works well. Bass is somewhat lacking but is pr...  2015-08-31  "
      ]
     },
     "execution_count": 13,
     "metadata": {},
     "output_type": "execute_result"
    }
   ],
   "source": [
    "data.head()"
   ]
  },
  {
   "cell_type": "code",
   "execution_count": 14,
   "id": "57bfdae4",
   "metadata": {},
   "outputs": [
    {
     "data": {
      "text/html": [
       "<div>\n",
       "<style scoped>\n",
       "    .dataframe tbody tr th:only-of-type {\n",
       "        vertical-align: middle;\n",
       "    }\n",
       "\n",
       "    .dataframe tbody tr th {\n",
       "        vertical-align: top;\n",
       "    }\n",
       "\n",
       "    .dataframe thead th {\n",
       "        text-align: right;\n",
       "    }\n",
       "</style>\n",
       "<table border=\"1\" class=\"dataframe\">\n",
       "  <thead>\n",
       "    <tr style=\"text-align: right;\">\n",
       "      <th></th>\n",
       "      <th>star_rating</th>\n",
       "      <th>helpful_votes</th>\n",
       "      <th>total_votes</th>\n",
       "    </tr>\n",
       "  </thead>\n",
       "  <tbody>\n",
       "    <tr>\n",
       "      <th>count</th>\n",
       "      <td>3.090877e+06</td>\n",
       "      <td>3.090877e+06</td>\n",
       "      <td>3.090877e+06</td>\n",
       "    </tr>\n",
       "    <tr>\n",
       "      <th>mean</th>\n",
       "      <td>4.035425e+00</td>\n",
       "      <td>1.860723e+00</td>\n",
       "      <td>2.372270e+00</td>\n",
       "    </tr>\n",
       "    <tr>\n",
       "      <th>std</th>\n",
       "      <td>1.387452e+00</td>\n",
       "      <td>2.133747e+01</td>\n",
       "      <td>2.249734e+01</td>\n",
       "    </tr>\n",
       "    <tr>\n",
       "      <th>min</th>\n",
       "      <td>1.000000e+00</td>\n",
       "      <td>0.000000e+00</td>\n",
       "      <td>0.000000e+00</td>\n",
       "    </tr>\n",
       "    <tr>\n",
       "      <th>25%</th>\n",
       "      <td>3.000000e+00</td>\n",
       "      <td>0.000000e+00</td>\n",
       "      <td>0.000000e+00</td>\n",
       "    </tr>\n",
       "    <tr>\n",
       "      <th>50%</th>\n",
       "      <td>5.000000e+00</td>\n",
       "      <td>0.000000e+00</td>\n",
       "      <td>0.000000e+00</td>\n",
       "    </tr>\n",
       "    <tr>\n",
       "      <th>75%</th>\n",
       "      <td>5.000000e+00</td>\n",
       "      <td>1.000000e+00</td>\n",
       "      <td>1.000000e+00</td>\n",
       "    </tr>\n",
       "    <tr>\n",
       "      <th>max</th>\n",
       "      <td>5.000000e+00</td>\n",
       "      <td>1.278600e+04</td>\n",
       "      <td>1.294400e+04</td>\n",
       "    </tr>\n",
       "  </tbody>\n",
       "</table>\n",
       "</div>"
      ],
      "text/plain": [
       "        star_rating  helpful_votes   total_votes\n",
       "count  3.090877e+06   3.090877e+06  3.090877e+06\n",
       "mean   4.035425e+00   1.860723e+00  2.372270e+00\n",
       "std    1.387452e+00   2.133747e+01  2.249734e+01\n",
       "min    1.000000e+00   0.000000e+00  0.000000e+00\n",
       "25%    3.000000e+00   0.000000e+00  0.000000e+00\n",
       "50%    5.000000e+00   0.000000e+00  0.000000e+00\n",
       "75%    5.000000e+00   1.000000e+00  1.000000e+00\n",
       "max    5.000000e+00   1.278600e+04  1.294400e+04"
      ]
     },
     "execution_count": 14,
     "metadata": {},
     "output_type": "execute_result"
    }
   ],
   "source": [
    "data.describe()[['star_rating', 'helpful_votes', 'total_votes']] # choose the useful columns"
   ]
  },
  {
   "cell_type": "markdown",
   "id": "9d85759e",
   "metadata": {},
   "source": [
    "### Star Rating"
   ]
  },
  {
   "cell_type": "code",
   "execution_count": 15,
   "id": "19762ddb",
   "metadata": {},
   "outputs": [
    {
     "data": {
      "text/plain": [
       "5    1779292\n",
       "4     536394\n",
       "1     357792\n",
       "3     238376\n",
       "2     179023\n",
       "Name: star_rating, dtype: int64"
      ]
     },
     "execution_count": 15,
     "metadata": {},
     "output_type": "execute_result"
    }
   ],
   "source": [
    "star_ratings = data['star_rating'].value_counts()\n",
    "star_ratings"
   ]
  },
  {
   "cell_type": "code",
   "execution_count": 16,
   "id": "477dec51",
   "metadata": {},
   "outputs": [
    {
     "data": {
      "text/plain": [
       "<AxesSubplot: xlabel='star_rating', ylabel='Count'>"
      ]
     },
     "execution_count": 16,
     "metadata": {},
     "output_type": "execute_result"
    },
    {
     "data": {
      "image/png": "[encoded data removed]",
      "text/plain": [
       "<Figure size 640x480 with 1 Axes>"
      ]
     },
     "metadata": {},
     "output_type": "display_data"
    }
   ],
   "source": [
    "sns.histplot(data=data, x='star_rating', bins=5, discrete=True)"
   ]
  },
  {
   "cell_type": "markdown",
   "id": "86bf488c",
   "metadata": {},
   "source": [
    "### Helpful Votes"
   ]
  },
  {
   "cell_type": "code",
   "execution_count": 17,
   "id": "43d15236",
   "metadata": {},
   "outputs": [
    {
     "data": {
      "text/plain": [
       "0       2088815\n",
       "1        469884\n",
       "2        172954\n",
       "3         91595\n",
       "4         55864\n",
       "         ...   \n",
       "1817          1\n",
       "487           1\n",
       "4420          1\n",
       "419           1\n",
       "590           1\n",
       "Name: helpful_votes, Length: 895, dtype: int64"
      ]
     },
     "execution_count": 17,
     "metadata": {},
     "output_type": "execute_result"
    }
   ],
   "source": [
    "data['helpful_votes'].value_counts()"
   ]
  },
  {
   "cell_type": "code",
   "execution_count": 18,
   "id": "c94494b9",
   "metadata": {},
   "outputs": [
    {
     "data": {
      "text/plain": [
       "<AxesSubplot: xlabel='helpful_votes', ylabel='Count'>"
      ]
     },
     "execution_count": 18,
     "metadata": {},
     "output_type": "execute_result"
    },
    {
     "data": {
      "image/png": "[encoded data removed]",
      "text/plain": [
       "<Figure size 1200x500 with 1 Axes>"
      ]
     },
     "metadata": {},
     "output_type": "display_data"
    }
   ],
   "source": [
    "plt.figure(figsize=(12, 5))\n",
    "sns.histplot(data=np.log(data.sample(10000)['helpful_votes']), discrete=True)"
   ]
  },
  {
   "cell_type": "markdown",
   "id": "8e3a23b0",
   "metadata": {},
   "source": [
    "### Total Votes"
   ]
  },
  {
   "cell_type": "code",
   "execution_count": 19,
   "id": "e14b1608",
   "metadata": {},
   "outputs": [
    {
     "data": {
      "text/plain": [
       "0       1877025\n",
       "1        510657\n",
       "2        219216\n",
       "3        117367\n",
       "4         75456\n",
       "         ...   \n",
       "543           1\n",
       "888           1\n",
       "612           1\n",
       "2371          1\n",
       "605           1\n",
       "Name: total_votes, Length: 934, dtype: int64"
      ]
     },
     "execution_count": 19,
     "metadata": {},
     "output_type": "execute_result"
    }
   ],
   "source": [
    "data['total_votes'].value_counts()"
   ]
  },
  {
   "cell_type": "code",
   "execution_count": 20,
   "id": "2b4e8a9e",
   "metadata": {},
   "outputs": [
    {
     "data": {
      "text/plain": [
       "<AxesSubplot: xlabel='total_votes', ylabel='Count'>"
      ]
     },
     "execution_count": 20,
     "metadata": {},
     "output_type": "execute_result"
    },
    {
     "data": {
      "image/png": "[encoded data removed]",
      "text/plain": [
       "<Figure size 1200x500 with 1 Axes>"
      ]
     },
     "metadata": {},
     "output_type": "display_data"
    }
   ],
   "source": [
    "plt.figure(figsize=(12, 5))\n",
    "sns.histplot(data=np.log(data.sample(10000)['total_votes']), discrete=True)"
   ]
  },
  {
   "cell_type": "markdown",
   "id": "9d9a553e",
   "metadata": {},
   "source": [
    "### Review Dates"
   ]
  },
  {
   "cell_type": "code",
   "execution_count": 21,
   "id": "e9ac1417",
   "metadata": {},
   "outputs": [
    {
     "data": {
      "text/plain": [
       "0         2015-08-31\n",
       "1         2015-08-31\n",
       "2         2015-08-31\n",
       "3         2015-08-31\n",
       "4         2015-08-31\n",
       "             ...    \n",
       "3091019   1999-06-14\n",
       "3091020   1999-06-13\n",
       "3091021   1999-06-12\n",
       "3091022   1999-06-12\n",
       "3091023   1999-06-09\n",
       "Name: review_date, Length: 3090877, dtype: datetime64[ns]"
      ]
     },
     "execution_count": 21,
     "metadata": {},
     "output_type": "execute_result"
    }
   ],
   "source": [
    "data['review_date']"
   ]
  },
  {
   "cell_type": "code",
   "execution_count": 22,
   "id": "89ed5709",
   "metadata": {},
   "outputs": [
    {
     "data": {
      "text/plain": [
       "Timestamp('2015-08-31 00:00:00')"
      ]
     },
     "execution_count": 22,
     "metadata": {},
     "output_type": "execute_result"
    }
   ],
   "source": [
    "max(data['review_date'])"
   ]
  },
  {
   "cell_type": "code",
   "execution_count": 23,
   "id": "48ee72e2",
   "metadata": {},
   "outputs": [
    {
     "data": {
      "text/plain": [
       "Timestamp('1999-06-09 00:00:00')"
      ]
     },
     "execution_count": 23,
     "metadata": {},
     "output_type": "execute_result"
    }
   ],
   "source": [
    "min(data['review_date'])"
   ]
  },
  {
   "cell_type": "markdown",
   "id": "472334b9",
   "metadata": {},
   "source": [
    "Overall review frequency trend."
   ]
  },
  {
   "cell_type": "code",
   "execution_count": 24,
   "id": "60e0a961",
   "metadata": {},
   "outputs": [],
   "source": [
    "date_value = data.groupby('review_date')['review_id'].count()"
   ]
  },
  {
   "cell_type": "code",
   "execution_count": 25,
   "id": "ccd69711",
   "metadata": {},
   "outputs": [
    {
     "data": {
      "text/plain": [
       "<AxesSubplot: xlabel='review_date', ylabel='review_id'>"
      ]
     },
     "execution_count": 25,
     "metadata": {},
     "output_type": "execute_result"
    },
    {
     "data": {
      "image/png": "[encoded data removed]",
      "text/plain": [
       "<Figure size 1200x500 with 1 Axes>"
      ]
     },
     "metadata": {},
     "output_type": "display_data"
    }
   ],
   "source": [
    "plt.figure(figsize=(12, 5))\n",
    "sns.lineplot(date_value, lw=0.4)"
   ]
  },
  {
   "cell_type": "markdown",
   "id": "647b3a5a",
   "metadata": {},
   "source": [
    "### Periodic Analysis\n",
    "\n",
    "Split year, month, day, weekdays from datetime"
   ]
  },
  {
   "cell_type": "code",
   "execution_count": 26,
   "id": "f64ee516",
   "metadata": {},
   "outputs": [],
   "source": [
    "data['review_year'], data['review_month'], data['review_day'] = \\\n",
    "    data['review_date'].astype('string').str.split('-').str[0], data['review_date'].astype('string').str.split('-').str[1], \\\n",
    "    data['review_date'].astype('string').str.split('-').str[2]"
   ]
  },
  {
   "cell_type": "code",
   "execution_count": 27,
   "id": "ad92258b",
   "metadata": {},
   "outputs": [],
   "source": [
    "data['review_month'], data['review_day'] = \\\n",
    "    data['review_month'].astype(int), data['review_day'].astype(int)"
   ]
  },
  {
   "cell_type": "code",
   "execution_count": 28,
   "id": "4b352eb4",
   "metadata": {},
   "outputs": [],
   "source": [
    "data['review_weekdays'] = data['review_date'].dt.day_name()"
   ]
  },
  {
   "cell_type": "markdown",
   "id": "0d8e4817",
   "metadata": {},
   "source": [
    "Year Analysis"
   ]
  },
  {
   "cell_type": "code",
   "execution_count": 29,
   "id": "ea47ddeb",
   "metadata": {
    "scrolled": false
   },
   "outputs": [
    {
     "data": {
      "image/png": "[encoded data removed]",
      "text/plain": [
       "<Figure size 1200x500 with 1 Axes>"
      ]
     },
     "metadata": {},
     "output_type": "display_data"
    }
   ],
   "source": [
    "plt.figure(figsize=(12, 5))\n",
    "sns.histplot(data = data, x='review_year', discrete=True).invert_xaxis()"
   ]
  },
  {
   "cell_type": "markdown",
   "id": "654a0ba0",
   "metadata": {},
   "source": [
    "Month Analysis"
   ]
  },
  {
   "cell_type": "code",
   "execution_count": 30,
   "id": "63ccbecb",
   "metadata": {},
   "outputs": [
    {
     "data": {
      "text/plain": [
       "<AxesSubplot: xlabel='review_month', ylabel='Count'>"
      ]
     },
     "execution_count": 30,
     "metadata": {},
     "output_type": "execute_result"
    },
    {
     "data": {
      "image/png": "[encoded data removed]",
      "text/plain": [
       "<Figure size 1200x500 with 1 Axes>"
      ]
     },
     "metadata": {},
     "output_type": "display_data"
    }
   ],
   "source": [
    "plt.figure(figsize=(12, 5))\n",
    "sns.histplot(data = data, x='review_month', discrete=True)"
   ]
  },
  {
   "cell_type": "markdown",
   "id": "47951de7",
   "metadata": {},
   "source": [
    "Day Analysis"
   ]
  },
  {
   "cell_type": "code",
   "execution_count": 31,
   "id": "e853c679",
   "metadata": {},
   "outputs": [
    {
     "data": {
      "text/plain": [
       "<AxesSubplot: xlabel='review_day', ylabel='Count'>"
      ]
     },
     "execution_count": 31,
     "metadata": {},
     "output_type": "execute_result"
    },
    {
     "data": {
      "image/png": "[encoded data removed]",
      "text/plain": [
       "<Figure size 1200x500 with 1 Axes>"
      ]
     },
     "metadata": {},
     "output_type": "display_data"
    }
   ],
   "source": [
    "plt.figure(figsize=(12, 5))\n",
    "sns.histplot(data = data, x='review_day', discrete=True)"
   ]
  },
  {
   "cell_type": "markdown",
   "id": "dfb005b5",
   "metadata": {},
   "source": [
    "Weekdays Analysis"
   ]
  },
  {
   "cell_type": "code",
   "execution_count": 32,
   "id": "274e00bd",
   "metadata": {},
   "outputs": [
    {
     "data": {
      "image/png": "[encoded data removed]",
      "text/plain": [
       "<Figure size 1200x500 with 1 Axes>"
      ]
     },
     "metadata": {},
     "output_type": "display_data"
    }
   ],
   "source": [
    "plt.figure(figsize=(12, 5))\n",
    "sns.histplot(data = data, x='review_weekdays').invert_xaxis()"
   ]
  },
  {
   "cell_type": "code",
   "execution_count": 33,
   "id": "e088b067",
   "metadata": {},
   "outputs": [
    {
     "data": {
      "text/html": [
       "<div>\n",
       "<style scoped>\n",
       "    .dataframe tbody tr th:only-of-type {\n",
       "        vertical-align: middle;\n",
       "    }\n",
       "\n",
       "    .dataframe tbody tr th {\n",
       "        vertical-align: top;\n",
       "    }\n",
       "\n",
       "    .dataframe thead th {\n",
       "        text-align: right;\n",
       "    }\n",
       "</style>\n",
       "<table border=\"1\" class=\"dataframe\">\n",
       "  <thead>\n",
       "    <tr style=\"text-align: right;\">\n",
       "      <th></th>\n",
       "      <th>customer_id</th>\n",
       "      <th>review_id</th>\n",
       "      <th>product_id</th>\n",
       "      <th>product_title</th>\n",
       "      <th>star_rating</th>\n",
       "      <th>helpful_votes</th>\n",
       "      <th>total_votes</th>\n",
       "      <th>vine</th>\n",
       "      <th>verified_purchase</th>\n",
       "      <th>review_headline</th>\n",
       "      <th>review_body</th>\n",
       "      <th>review_date</th>\n",
       "      <th>review_year</th>\n",
       "      <th>review_month</th>\n",
       "      <th>review_day</th>\n",
       "      <th>review_weekdays</th>\n",
       "    </tr>\n",
       "  </thead>\n",
       "  <tbody>\n",
       "    <tr>\n",
       "      <th>0</th>\n",
       "      <td>41409413</td>\n",
       "      <td>R2MTG1GCZLR2DK</td>\n",
       "      <td>B00428R89M</td>\n",
       "      <td>yoomall 5M Antenna WIFI RP-SMA Female to Male ...</td>\n",
       "      <td>5</td>\n",
       "      <td>0</td>\n",
       "      <td>0</td>\n",
       "      <td>N</td>\n",
       "      <td>Y</td>\n",
       "      <td>Five Stars</td>\n",
       "      <td>As described.</td>\n",
       "      <td>2015-08-31</td>\n",
       "      <td>2015</td>\n",
       "      <td>8</td>\n",
       "      <td>31</td>\n",
       "      <td>Monday</td>\n",
       "    </tr>\n",
       "    <tr>\n",
       "      <th>1</th>\n",
       "      <td>49668221</td>\n",
       "      <td>R2HBOEM8LE9928</td>\n",
       "      <td>B000068O48</td>\n",
       "      <td>Hosa GPM-103 3.5mm TRS to 1/4\" TRS Adaptor</td>\n",
       "      <td>5</td>\n",
       "      <td>0</td>\n",
       "      <td>0</td>\n",
       "      <td>N</td>\n",
       "      <td>Y</td>\n",
       "      <td>It works as advertising.</td>\n",
       "      <td>It works as advertising.</td>\n",
       "      <td>2015-08-31</td>\n",
       "      <td>2015</td>\n",
       "      <td>8</td>\n",
       "      <td>31</td>\n",
       "      <td>Monday</td>\n",
       "    </tr>\n",
       "    <tr>\n",
       "      <th>2</th>\n",
       "      <td>12338275</td>\n",
       "      <td>R1P4RW1R9FDPEE</td>\n",
       "      <td>B000GGKOG8</td>\n",
       "      <td>Channel Master Titan 2 Antenna Preamplifier</td>\n",
       "      <td>5</td>\n",
       "      <td>1</td>\n",
       "      <td>1</td>\n",
       "      <td>N</td>\n",
       "      <td>Y</td>\n",
       "      <td>Five Stars</td>\n",
       "      <td>Works pissa</td>\n",
       "      <td>2015-08-31</td>\n",
       "      <td>2015</td>\n",
       "      <td>8</td>\n",
       "      <td>31</td>\n",
       "      <td>Monday</td>\n",
       "    </tr>\n",
       "    <tr>\n",
       "      <th>3</th>\n",
       "      <td>38487968</td>\n",
       "      <td>R1EBPM82ENI67M</td>\n",
       "      <td>B000NU4OTA</td>\n",
       "      <td>LIMTECH Wall charger + USB Hotsync &amp; Charging ...</td>\n",
       "      <td>1</td>\n",
       "      <td>0</td>\n",
       "      <td>0</td>\n",
       "      <td>N</td>\n",
       "      <td>Y</td>\n",
       "      <td>One Star</td>\n",
       "      <td>Did not work at all.</td>\n",
       "      <td>2015-08-31</td>\n",
       "      <td>2015</td>\n",
       "      <td>8</td>\n",
       "      <td>31</td>\n",
       "      <td>Monday</td>\n",
       "    </tr>\n",
       "    <tr>\n",
       "      <th>4</th>\n",
       "      <td>23732619</td>\n",
       "      <td>R372S58V6D11AT</td>\n",
       "      <td>B00JOQIO6S</td>\n",
       "      <td>Skullcandy Air Raid Portable Bluetooth Speaker</td>\n",
       "      <td>5</td>\n",
       "      <td>1</td>\n",
       "      <td>1</td>\n",
       "      <td>N</td>\n",
       "      <td>Y</td>\n",
       "      <td>Overall pleased with the item</td>\n",
       "      <td>Works well. Bass is somewhat lacking but is pr...</td>\n",
       "      <td>2015-08-31</td>\n",
       "      <td>2015</td>\n",
       "      <td>8</td>\n",
       "      <td>31</td>\n",
       "      <td>Monday</td>\n",
       "    </tr>\n",
       "  </tbody>\n",
       "</table>\n",
       "</div>"
      ],
      "text/plain": [
       "   customer_id       review_id  product_id  \\\n",
       "0     41409413  R2MTG1GCZLR2DK  B00428R89M   \n",
       "1     49668221  R2HBOEM8LE9928  B000068O48   \n",
       "2     12338275  R1P4RW1R9FDPEE  B000GGKOG8   \n",
       "3     38487968  R1EBPM82ENI67M  B000NU4OTA   \n",
       "4     23732619  R372S58V6D11AT  B00JOQIO6S   \n",
       "\n",
       "                                       product_title  star_rating  \\\n",
       "0  yoomall 5M Antenna WIFI RP-SMA Female to Male ...            5   \n",
       "1         Hosa GPM-103 3.5mm TRS to 1/4\" TRS Adaptor            5   \n",
       "2        Channel Master Titan 2 Antenna Preamplifier            5   \n",
       "3  LIMTECH Wall charger + USB Hotsync & Charging ...            1   \n",
       "4     Skullcandy Air Raid Portable Bluetooth Speaker            5   \n",
       "\n",
       "   helpful_votes  total_votes vine verified_purchase  \\\n",
       "0              0            0    N                 Y   \n",
       "1              0            0    N                 Y   \n",
       "2              1            1    N                 Y   \n",
       "3              0            0    N                 Y   \n",
       "4              1            1    N                 Y   \n",
       "\n",
       "                 review_headline  \\\n",
       "0                     Five Stars   \n",
       "1       It works as advertising.   \n",
       "2                     Five Stars   \n",
       "3                       One Star   \n",
       "4  Overall pleased with the item   \n",
       "\n",
       "                                         review_body review_date review_year  \\\n",
       "0                                      As described.  2015-08-31        2015   \n",
       "1                           It works as advertising.  2015-08-31        2015   \n",
       "2                                        Works pissa  2015-08-31        2015   \n",
       "3                               Did not work at all.  2015-08-31        2015   \n",
       "4  Works well. Bass is somewhat lacking but is pr...  2015-08-31        2015   \n",
       "\n",
       "   review_month  review_day review_weekdays  \n",
       "0             8          31          Monday  \n",
       "1             8          31          Monday  \n",
       "2             8          31          Monday  \n",
       "3             8          31          Monday  \n",
       "4             8          31          Monday  "
      ]
     },
     "execution_count": 33,
     "metadata": {},
     "output_type": "execute_result"
    }
   ],
   "source": [
    "data.head()"
   ]
  },
  {
   "cell_type": "markdown",
   "id": "6c346e49",
   "metadata": {},
   "source": [
    "## Multivariate Analysis\n",
    "### Star Rating vs. Product Title\n",
    "Consider other ML/Model methods rather than manual categories."
   ]
  },
  {
   "cell_type": "code",
   "execution_count": 34,
   "id": "045445d8",
   "metadata": {
    "scrolled": true
   },
   "outputs": [
    {
     "data": {
      "text/plain": [
       "[('with',),\n",
       " ('-',),\n",
       " ('for',),\n",
       " ('and',),\n",
       " ('Cable',),\n",
       " ('HDMI',),\n",
       " ('to',),\n",
       " ('Headphones',),\n",
       " ('Audio',),\n",
       " ('Speaker',),\n",
       " ('Bluetooth',),\n",
       " ('Wireless',),\n",
       " ('by',),\n",
       " ('Stereo',),\n",
       " ('TV',),\n",
       " ('/',),\n",
       " ('(Discontinued',),\n",
       " ('Manufacturer)',),\n",
       " ('Portable',),\n",
       " ('Sony',),\n",
       " ('Player',),\n",
       " ('Adapter',),\n",
       " ('Black',),\n",
       " ('&',),\n",
       " ('Digital',),\n",
       " ('Wall',),\n",
       " ('High',),\n",
       " ('Radio',),\n",
       " ('Power',),\n",
       " ('Headphone',),\n",
       " ('Mount',),\n",
       " ('MP3',),\n",
       " ('Remote',),\n",
       " ('iPod',),\n",
       " ('System',),\n",
       " ('Battery',),\n",
       " ('(Black)',),\n",
       " ('2',),\n",
       " ('Male',),\n",
       " ('3.5mm',),\n",
       " ('In-Ear',),\n",
       " ('USB',),\n",
       " ('Mini',),\n",
       " ('RCA',),\n",
       " ('GB',),\n",
       " ('Apple',),\n",
       " ('3D',),\n",
       " ('Rechargeable',),\n",
       " ('Video',),\n",
       " ('Control',)]"
      ]
     },
     "execution_count": 34,
     "metadata": {},
     "output_type": "execute_result"
    }
   ],
   "source": [
    "# explore the words appeared in the product title\n",
    "all_words = ' '.join(data['product_title'].to_numpy())\n",
    "words = pd.DataFrame(all_words.split())\n",
    "counts = words.value_counts()\n",
    "counts[:50].index.to_list()"
   ]
  },
  {
   "cell_type": "code",
   "execution_count": 35,
   "id": "e1e749d3",
   "metadata": {},
   "outputs": [],
   "source": [
    "# Try to categorize the products"
   ]
  },
  {
   "cell_type": "code",
   "execution_count": 36,
   "id": "513c477c",
   "metadata": {},
   "outputs": [],
   "source": [
    "def catelogs(string):\n",
    "    lower = string.lower()\n",
    "    \n",
    "    catelogs = ['phone', 'headphones', 'sound', 'television', 'cable', 'speaker', 'monitor', 'car', 'battery', 'laptop', 'pad',\\\n",
    "               'watch', 'chip', 'pc', 'computer', 'adaptor', 'player', 'charge', 'connector', 'kitchen', 'storage', 'tablet',\\\n",
    "               'tv', 'dvd', 'memory', 'gpu'] # some common electronic devices\n",
    "    \n",
    "    for catelog in catelogs:\n",
    "        if catelog in lower:\n",
    "            return catelog\n",
    "    return 'other'"
   ]
  },
  {
   "cell_type": "code",
   "execution_count": 37,
   "id": "4e2f2fba",
   "metadata": {
    "scrolled": true
   },
   "outputs": [
    {
     "data": {
      "text/plain": [
       "category\n",
       "adaptor       3.947763\n",
       "battery       4.119803\n",
       "cable         4.272035\n",
       "car           3.857226\n",
       "charge        4.193303\n",
       "chip          4.381227\n",
       "computer      4.215166\n",
       "connector     4.273801\n",
       "dvd           4.047720\n",
       "gpu           3.739130\n",
       "kitchen       4.233689\n",
       "laptop        3.825151\n",
       "memory        4.216680\n",
       "monitor       4.236941\n",
       "other         4.012421\n",
       "pad           3.974987\n",
       "pc            3.922399\n",
       "phone         3.945106\n",
       "player        3.588514\n",
       "sound         4.139926\n",
       "speaker       4.165873\n",
       "storage       4.227013\n",
       "tablet        3.828283\n",
       "television    4.000101\n",
       "tv            4.011025\n",
       "watch         3.928418\n",
       "Name: star_rating, dtype: float64"
      ]
     },
     "execution_count": 37,
     "metadata": {},
     "output_type": "execute_result"
    }
   ],
   "source": [
    "data['category'] = data['product_title'].apply(catelogs)\n",
    "by_category = data.groupby('category')['star_rating'].mean()\n",
    "by_category"
   ]
  },
  {
   "cell_type": "code",
   "execution_count": 38,
   "id": "ab857928",
   "metadata": {},
   "outputs": [
    {
     "data": {
      "text/plain": [
       "<AxesSubplot: xlabel='star_rating', ylabel='category'>"
      ]
     },
     "execution_count": 38,
     "metadata": {},
     "output_type": "execute_result"
    },
    {
     "data": {
      "image/png": "[encoded data removed]",
      "text/plain": [
       "<Figure size 640x480 with 1 Axes>"
      ]
     },
     "metadata": {},
     "output_type": "display_data"
    }
   ],
   "source": [
    "sns.barplot(pd.DataFrame(by_category).reset_index(), y='category', x='star_rating', orient='h', \\\n",
    "            palette=colors_from_values(by_category, \"rocket\"))"
   ]
  },
  {
   "cell_type": "code",
   "execution_count": 39,
   "id": "4e58d536",
   "metadata": {},
   "outputs": [],
   "source": [
    "def brandize(string):\n",
    "    lower = string.lower()\n",
    "    \n",
    "    catelogs = ['samsung', 'apple', 'sony', 'nvidia', 'amd', 'cisco', 'nintendo', 'xiaomi', 'dell',\\\n",
    "               'hp', 'canon', 'mitsubishi', 'lg', 'lenovo', 'nikon', 'intel', 'asus', 'gigabyte',\\\n",
    "               'seagate', 'kingston', 'casio'] # some common electronic brands\n",
    "    \n",
    "    for catelog in catelogs:\n",
    "        if catelog in lower:\n",
    "            return catelog\n",
    "    return 'other'"
   ]
  },
  {
   "cell_type": "code",
   "execution_count": 40,
   "id": "211f220a",
   "metadata": {
    "scrolled": true
   },
   "outputs": [
    {
     "data": {
      "text/plain": [
       "brand\n",
       "amd           4.027491\n",
       "apple         3.987114\n",
       "asus          3.792748\n",
       "canon         3.996056\n",
       "casio         3.724638\n",
       "cisco         4.063075\n",
       "dell          3.710526\n",
       "gigabyte      3.967033\n",
       "hp            3.860215\n",
       "intel         4.186854\n",
       "kingston      4.542510\n",
       "lenovo        3.244862\n",
       "lg            4.163451\n",
       "mitsubishi    3.665214\n",
       "nikon         4.121867\n",
       "nintendo      3.667043\n",
       "nvidia        3.964286\n",
       "other         4.042058\n",
       "samsung       3.992555\n",
       "seagate       4.103896\n",
       "sony          4.044151\n",
       "xiaomi        4.022556\n",
       "Name: star_rating, dtype: float64"
      ]
     },
     "execution_count": 40,
     "metadata": {},
     "output_type": "execute_result"
    }
   ],
   "source": [
    "data['brand'] = data['product_title'].apply(brandize)\n",
    "by_brand = data.groupby('brand')['star_rating'].mean()\n",
    "by_brand"
   ]
  },
  {
   "cell_type": "code",
   "execution_count": 41,
   "id": "d9cefa88",
   "metadata": {},
   "outputs": [
    {
     "data": {
      "text/plain": [
       "<AxesSubplot: xlabel='star_rating', ylabel='brand'>"
      ]
     },
     "execution_count": 41,
     "metadata": {},
     "output_type": "execute_result"
    },
    {
     "data": {
      "image/png": "[encoded data removed]",
      "text/plain": [
       "<Figure size 640x480 with 1 Axes>"
      ]
     },
     "metadata": {},
     "output_type": "display_data"
    }
   ],
   "source": [
    "sns.barplot(pd.DataFrame(by_brand).reset_index(), y='brand', x='star_rating', orient='h', \\\n",
    "            palette=colors_from_values(by_brand, \"rocket\"))"
   ]
  },
  {
   "cell_type": "markdown",
   "id": "a3a03b4d",
   "metadata": {},
   "source": [
    "### Review Weekdays vs. Star Rating"
   ]
  },
  {
   "cell_type": "code",
   "execution_count": 49,
   "id": "902c2c53",
   "metadata": {},
   "outputs": [
    {
     "data": {
      "text/plain": [
       "<AxesSubplot: xlabel='star_rating', ylabel='Count'>"
      ]
     },
     "execution_count": 49,
     "metadata": {},
     "output_type": "execute_result"
    },
    {
     "data": {
      "image/png": "[encoded data removed]",
      "text/plain": [
       "<Figure size 640x480 with 1 Axes>"
      ]
     },
     "metadata": {},
     "output_type": "display_data"
    }
   ],
   "source": [
    "sns.histplot(data.sample(10000), x='star_rating', hue='review_weekdays',multiple=\"dodge\", discrete=True, shrink=0.8)"
   ]
  },
  {
   "cell_type": "code",
   "execution_count": 52,
   "id": "f6e2929d",
   "metadata": {},
   "outputs": [
    {
     "data": {
      "text/html": [
       "<div>\n",
       "<style scoped>\n",
       "    .dataframe tbody tr th:only-of-type {\n",
       "        vertical-align: middle;\n",
       "    }\n",
       "\n",
       "    .dataframe tbody tr th {\n",
       "        vertical-align: top;\n",
       "    }\n",
       "\n",
       "    .dataframe thead th {\n",
       "        text-align: right;\n",
       "    }\n",
       "</style>\n",
       "<table border=\"1\" class=\"dataframe\">\n",
       "  <thead>\n",
       "    <tr style=\"text-align: right;\">\n",
       "      <th></th>\n",
       "      <th>customer_id</th>\n",
       "      <th>review_id</th>\n",
       "      <th>product_id</th>\n",
       "      <th>product_title</th>\n",
       "      <th>star_rating</th>\n",
       "      <th>helpful_votes</th>\n",
       "      <th>total_votes</th>\n",
       "      <th>vine</th>\n",
       "      <th>verified_purchase</th>\n",
       "      <th>review_headline</th>\n",
       "      <th>review_body</th>\n",
       "      <th>review_date</th>\n",
       "      <th>review_year</th>\n",
       "      <th>review_month</th>\n",
       "      <th>review_day</th>\n",
       "      <th>review_weekdays</th>\n",
       "      <th>category</th>\n",
       "      <th>brand</th>\n",
       "    </tr>\n",
       "  </thead>\n",
       "  <tbody>\n",
       "    <tr>\n",
       "      <th>0</th>\n",
       "      <td>41409413</td>\n",
       "      <td>R2MTG1GCZLR2DK</td>\n",
       "      <td>B00428R89M</td>\n",
       "      <td>yoomall 5M Antenna WIFI RP-SMA Female to Male ...</td>\n",
       "      <td>5</td>\n",
       "      <td>0</td>\n",
       "      <td>0</td>\n",
       "      <td>N</td>\n",
       "      <td>Y</td>\n",
       "      <td>Five Stars</td>\n",
       "      <td>As described.</td>\n",
       "      <td>2015-08-31</td>\n",
       "      <td>2015</td>\n",
       "      <td>8</td>\n",
       "      <td>31</td>\n",
       "      <td>Monday</td>\n",
       "      <td>cable</td>\n",
       "      <td>other</td>\n",
       "    </tr>\n",
       "    <tr>\n",
       "      <th>1</th>\n",
       "      <td>49668221</td>\n",
       "      <td>R2HBOEM8LE9928</td>\n",
       "      <td>B000068O48</td>\n",
       "      <td>Hosa GPM-103 3.5mm TRS to 1/4\" TRS Adaptor</td>\n",
       "      <td>5</td>\n",
       "      <td>0</td>\n",
       "      <td>0</td>\n",
       "      <td>N</td>\n",
       "      <td>Y</td>\n",
       "      <td>It works as advertising.</td>\n",
       "      <td>It works as advertising.</td>\n",
       "      <td>2015-08-31</td>\n",
       "      <td>2015</td>\n",
       "      <td>8</td>\n",
       "      <td>31</td>\n",
       "      <td>Monday</td>\n",
       "      <td>adaptor</td>\n",
       "      <td>other</td>\n",
       "    </tr>\n",
       "    <tr>\n",
       "      <th>2</th>\n",
       "      <td>12338275</td>\n",
       "      <td>R1P4RW1R9FDPEE</td>\n",
       "      <td>B000GGKOG8</td>\n",
       "      <td>Channel Master Titan 2 Antenna Preamplifier</td>\n",
       "      <td>5</td>\n",
       "      <td>1</td>\n",
       "      <td>1</td>\n",
       "      <td>N</td>\n",
       "      <td>Y</td>\n",
       "      <td>Five Stars</td>\n",
       "      <td>Works pissa</td>\n",
       "      <td>2015-08-31</td>\n",
       "      <td>2015</td>\n",
       "      <td>8</td>\n",
       "      <td>31</td>\n",
       "      <td>Monday</td>\n",
       "      <td>other</td>\n",
       "      <td>other</td>\n",
       "    </tr>\n",
       "    <tr>\n",
       "      <th>3</th>\n",
       "      <td>38487968</td>\n",
       "      <td>R1EBPM82ENI67M</td>\n",
       "      <td>B000NU4OTA</td>\n",
       "      <td>LIMTECH Wall charger + USB Hotsync &amp; Charging ...</td>\n",
       "      <td>1</td>\n",
       "      <td>0</td>\n",
       "      <td>0</td>\n",
       "      <td>N</td>\n",
       "      <td>Y</td>\n",
       "      <td>One Star</td>\n",
       "      <td>Did not work at all.</td>\n",
       "      <td>2015-08-31</td>\n",
       "      <td>2015</td>\n",
       "      <td>8</td>\n",
       "      <td>31</td>\n",
       "      <td>Monday</td>\n",
       "      <td>player</td>\n",
       "      <td>apple</td>\n",
       "    </tr>\n",
       "    <tr>\n",
       "      <th>4</th>\n",
       "      <td>23732619</td>\n",
       "      <td>R372S58V6D11AT</td>\n",
       "      <td>B00JOQIO6S</td>\n",
       "      <td>Skullcandy Air Raid Portable Bluetooth Speaker</td>\n",
       "      <td>5</td>\n",
       "      <td>1</td>\n",
       "      <td>1</td>\n",
       "      <td>N</td>\n",
       "      <td>Y</td>\n",
       "      <td>Overall pleased with the item</td>\n",
       "      <td>Works well. Bass is somewhat lacking but is pr...</td>\n",
       "      <td>2015-08-31</td>\n",
       "      <td>2015</td>\n",
       "      <td>8</td>\n",
       "      <td>31</td>\n",
       "      <td>Monday</td>\n",
       "      <td>speaker</td>\n",
       "      <td>other</td>\n",
       "    </tr>\n",
       "  </tbody>\n",
       "</table>\n",
       "</div>"
      ],
      "text/plain": [
       "   customer_id       review_id  product_id  \\\n",
       "0     41409413  R2MTG1GCZLR2DK  B00428R89M   \n",
       "1     49668221  R2HBOEM8LE9928  B000068O48   \n",
       "2     12338275  R1P4RW1R9FDPEE  B000GGKOG8   \n",
       "3     38487968  R1EBPM82ENI67M  B000NU4OTA   \n",
       "4     23732619  R372S58V6D11AT  B00JOQIO6S   \n",
       "\n",
       "                                       product_title  star_rating  \\\n",
       "0  yoomall 5M Antenna WIFI RP-SMA Female to Male ...            5   \n",
       "1         Hosa GPM-103 3.5mm TRS to 1/4\" TRS Adaptor            5   \n",
       "2        Channel Master Titan 2 Antenna Preamplifier            5   \n",
       "3  LIMTECH Wall charger + USB Hotsync & Charging ...            1   \n",
       "4     Skullcandy Air Raid Portable Bluetooth Speaker            5   \n",
       "\n",
       "   helpful_votes  total_votes vine verified_purchase  \\\n",
       "0              0            0    N                 Y   \n",
       "1              0            0    N                 Y   \n",
       "2              1            1    N                 Y   \n",
       "3              0            0    N                 Y   \n",
       "4              1            1    N                 Y   \n",
       "\n",
       "                 review_headline  \\\n",
       "0                     Five Stars   \n",
       "1       It works as advertising.   \n",
       "2                     Five Stars   \n",
       "3                       One Star   \n",
       "4  Overall pleased with the item   \n",
       "\n",
       "                                         review_body review_date review_year  \\\n",
       "0                                      As described.  2015-08-31        2015   \n",
       "1                           It works as advertising.  2015-08-31        2015   \n",
       "2                                        Works pissa  2015-08-31        2015   \n",
       "3                               Did not work at all.  2015-08-31        2015   \n",
       "4  Works well. Bass is somewhat lacking but is pr...  2015-08-31        2015   \n",
       "\n",
       "   review_month  review_day review_weekdays category  brand  \n",
       "0             8          31          Monday    cable  other  \n",
       "1             8          31          Monday  adaptor  other  \n",
       "2             8          31          Monday    other  other  \n",
       "3             8          31          Monday   player  apple  \n",
       "4             8          31          Monday  speaker  other  "
      ]
     },
     "execution_count": 52,
     "metadata": {},
     "output_type": "execute_result"
    }
   ],
   "source": [
    "data.head()"
   ]
  },
  {
   "cell_type": "markdown",
   "id": "bb61f732",
   "metadata": {},
   "source": [
    "### Verified Purchase vs. Star Rating"
   ]
  },
  {
   "cell_type": "code",
   "execution_count": 54,
   "id": "ffa8237b",
   "metadata": {},
   "outputs": [
    {
     "data": {
      "text/plain": [
       "<seaborn.axisgrid.FacetGrid at 0x1f69d4faa60>"
      ]
     },
     "execution_count": 54,
     "metadata": {},
     "output_type": "execute_result"
    },
    {
     "data": {
      "image/png": "[encoded data removed]",
      "text/plain": [
       "<Figure size 634.486x500 with 1 Axes>"
      ]
     },
     "metadata": {},
     "output_type": "display_data"
    }
   ],
   "source": [
    "sns.displot(data.sample(10000), x='star_rating', hue='verified_purchase', multiple=\"dodge\", discrete=True, shrink=0.8)"
   ]
  }
 ],
 "metadata": {
  "kernelspec": {
   "display_name": "Python 3 (ipykernel)",
   "language": "python",
   "name": "python3"
  },
  "language_info": {
   "codemirror_mode": {
    "name": "ipython",
    "version": 3
   },
   "file_extension": ".py",
   "mimetype": "text/x-python",
   "name": "python",
   "nbconvert_exporter": "python",
   "pygments_lexer": "ipython3",
   "version": "3.9.13"
  }
 },
 "nbformat": 4,
 "nbformat_minor": 5
}
