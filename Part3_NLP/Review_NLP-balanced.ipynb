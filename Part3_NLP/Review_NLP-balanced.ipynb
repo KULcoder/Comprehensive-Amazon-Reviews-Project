{
 "cells": [
  {
   "cell_type": "markdown",
   "id": "1249fe67",
   "metadata": {},
   "source": [
    "# Part 3 NLP Classification Task\n",
    "\n",
    "This part is trying to use review title and review body to predict the ratings of this review.\n",
    "\n",
    "Our goal is to built a model based on pre-trained BERT model (the encoder part of the Transformers) to predict the ratings"
   ]
  },
  {
   "cell_type": "markdown",
   "id": "eb53db88",
   "metadata": {},
   "source": [
    "## Dependencies"
   ]
  },
  {
   "cell_type": "code",
   "execution_count": 1,
   "id": "81d6017c",
   "metadata": {},
   "outputs": [],
   "source": [
    "# Basic packages\n",
    "import os, pdb, sys\n",
    "import random\n",
    "import numpy as np\n",
    "import pandas as pd\n",
    "import re\n",
    "from tqdm import tqdm as progress_bar\n",
    "import ipywidgets\n",
    "import matplotlib.pyplot as plt\n",
    "import seaborn as sns"
   ]
  },
  {
   "cell_type": "code",
   "execution_count": 2,
   "id": "5026d217",
   "metadata": {},
   "outputs": [],
   "source": [
    "# data proprocess\n",
    "from sklearn.model_selection import train_test_split\n",
    "from sklearn.compose import ColumnTransformer\n",
    "from sklearn.preprocessing import StandardScaler\n",
    "from sklearn.feature_extraction.text import TfidfVectorizer\n",
    "from sklearn.decomposition import TruncatedSVD"
   ]
  },
  {
   "cell_type": "code",
   "execution_count": 3,
   "id": "ecd7bc96",
   "metadata": {},
   "outputs": [],
   "source": [
    "# tf-idf related model\n",
    "import sklearn\n",
    "from sklearn.pipeline import Pipeline\n",
    "from sklearn.linear_model import LogisticRegression"
   ]
  },
  {
   "cell_type": "code",
   "execution_count": 4,
   "id": "265e6619",
   "metadata": {},
   "outputs": [],
   "source": [
    "# torch related\n",
    "import torch\n",
    "from torch import nn\n",
    "from torch import optim\n",
    "from torch.nn import functional as F\n",
    "from torch.utils.data import Dataset\n",
    "from torch.utils.data import DataLoader, RandomSampler, SequentialSampler\n",
    "import pytorch_lightning as pl\n",
    "from pytorch_lightning.callbacks.early_stopping import EarlyStopping\n",
    "from pytorch_lightning.loggers import TensorBoardLogger"
   ]
  },
  {
   "cell_type": "code",
   "execution_count": 5,
   "id": "0646e13a",
   "metadata": {},
   "outputs": [],
   "source": [
    "# transformers\n",
    "from transformers import BertModel, BertConfig\n",
    "from transformers import AdamW, get_cosine_schedule_with_warmup, get_linear_schedule_with_warmup\n",
    "from transformers import BertTokenizer"
   ]
  },
  {
   "cell_type": "code",
   "execution_count": 6,
   "id": "89e0313c",
   "metadata": {},
   "outputs": [],
   "source": [
    "# evaluations\n",
    "from sklearn.metrics import f1_score\n",
    "from sklearn.metrics import accuracy_score\n",
    "from sklearn.metrics import confusion_matrix\n",
    "from sklearn.metrics import balanced_accuracy_score"
   ]
  },
  {
   "cell_type": "code",
   "execution_count": 65,
   "id": "41c56fbf",
   "metadata": {},
   "outputs": [],
   "source": [
    "# helper function\n",
    "def plot_cm(y_test, y_test_pred, name, labels=[1, 2, 3, 4, 5]):\n",
    "    # plot confusion matrix\n",
    "    cm = confusion_matrix(y_test, y_test_pred)\n",
    "    cm_df = pd.DataFrame(cm, index=labels, columns=labels)\n",
    "    \n",
    "    plt.figure(figsize=(5, 5))\n",
    "    sns.heatmap(cm_df, annot=True, cmap=plt.get_cmap('Blues'), fmt=\"d\")\n",
    "    plt.title(\"Confusion Matrix of \" + name)\n",
    "    plt.ylabel('Actual Values')\n",
    "    plt.xlabel('Predicted Values')\n",
    "    plt.show()\n",
    "\n",
    "def extract_positive_negative(y_test, y_test_pred):\n",
    "    # from the labels of 0, 1, 3, 4: return the positive / negative list\n",
    "    y_test = np.array(y_test)\n",
    "    y_test_pred = np.array(y_test_pred)\n",
    "    \n",
    "    negative_index = y_test < 2\n",
    "    positive_index = y_test > 2\n",
    "    \n",
    "    y_test_pn = np.array([0]*negative_index.sum() + [1]*positive_index.sum())\n",
    "    pred_neg = np.logical_not(y_test_pred[negative_index] <= 2)*1\n",
    "    pred_pos = (y_test_pred[positive_index] >= 2)*1\n",
    "    y_pred_pn = np.concatenate([pred_neg, pred_pos])\n",
    "    return y_test_pn, y_pred_pn"
   ]
  },
  {
   "cell_type": "markdown",
   "id": "94cbae07",
   "metadata": {},
   "source": [
    "### Some Constants"
   ]
  },
  {
   "cell_type": "code",
   "execution_count": 8,
   "id": "f16c4029",
   "metadata": {},
   "outputs": [],
   "source": [
    "np.random.seed(42)"
   ]
  },
  {
   "cell_type": "code",
   "execution_count": 9,
   "id": "53eb237c",
   "metadata": {},
   "outputs": [],
   "source": [
    "torch.set_float32_matmul_precision('high') # trade precision for performance"
   ]
  },
  {
   "cell_type": "code",
   "execution_count": 10,
   "id": "87218ddb",
   "metadata": {},
   "outputs": [],
   "source": [
    "max_len = 256 # maximum sequence length to look back\n",
    "device = \"cuda\" if torch.cuda.is_available() else \"cpu\"\n",
    "batch_size = 32\n",
    "dropout = 0.5\n",
    "learning_rate = 1e-6"
   ]
  },
  {
   "cell_type": "markdown",
   "id": "3d3c3250",
   "metadata": {},
   "source": [
    "## Basic Data"
   ]
  },
  {
   "cell_type": "code",
   "execution_count": 11,
   "id": "0ee329a4",
   "metadata": {},
   "outputs": [],
   "source": [
    "# load data\n",
    "filepath = os.path.join('data', 'amazon_reviews_us_Electronics_v1_00.tsv')\n",
    "raw_data = pd.read_csv(filepath, delimiter='\\t', on_bad_lines='skip')"
   ]
  },
  {
   "cell_type": "code",
   "execution_count": 12,
   "id": "460134aa",
   "metadata": {},
   "outputs": [],
   "source": [
    "data = raw_data[['review_body', 'star_rating', 'review_headline']].dropna()\n",
    "data['review'] = data['review_headline'] + ', ' + data['review_body'] \n",
    "data['review'] = data['review'].str.lower()\n",
    "data.drop(columns=['review_body', 'review_headline'], inplace = True)\n",
    "data = data[data['review'].str.len() >= 100]\n",
    "del raw_data"
   ]
  },
  {
   "cell_type": "code",
   "execution_count": 13,
   "id": "e77a2fc4",
   "metadata": {},
   "outputs": [],
   "source": [
    "one = data[data['star_rating'] == 1]\n",
    "two = data[data['star_rating'] == 2]\n",
    "three = data[data['star_rating'] == 3]\n",
    "four = data[data['star_rating'] == 4]\n",
    "five = data[data['star_rating'] == 5]"
   ]
  },
  {
   "cell_type": "code",
   "execution_count": 14,
   "id": "7399e220",
   "metadata": {},
   "outputs": [],
   "source": [
    "# used a portion of data for efficiency & balance the data\n",
    "data = pd.concat([one.sample(15000), two.sample(15000), three.sample(15000), four.sample(15000), five.sample(15000)])\n",
    "\n",
    "# shuffle the data\n",
    "data = data.sample(frac=1)\n",
    "\n",
    "train_data = data.iloc[: round(len(data) * 0.8)]\n",
    "valid_data = data.iloc[round(len(data) * 0.8) : round(len(data) * 0.9)]\n",
    "test_data = data.iloc[round(len(data) * 0.9) :]"
   ]
  },
  {
   "cell_type": "code",
   "execution_count": 15,
   "id": "d81772fb",
   "metadata": {},
   "outputs": [],
   "source": [
    "# release memory\n",
    "del(one)\n",
    "del(two)\n",
    "del(three)\n",
    "del(four)\n",
    "del(five)"
   ]
  },
  {
   "cell_type": "markdown",
   "id": "102669d1",
   "metadata": {},
   "source": [
    "## Sub-Part (a): TF-IDF with Logistic Regression\n",
    "We will train a TF-IDF model as a baseline model."
   ]
  },
  {
   "cell_type": "markdown",
   "id": "7bd5f86d",
   "metadata": {},
   "source": [
    "### Prepare Train Test Data"
   ]
  },
  {
   "cell_type": "code",
   "execution_count": 80,
   "id": "ed2eb8e5",
   "metadata": {},
   "outputs": [],
   "source": [
    "X_train, y_train = train_data['review'], train_data['star_rating']\n",
    "X_test, y_test = test_data['review'], test_data['star_rating']"
   ]
  },
  {
   "cell_type": "markdown",
   "id": "95078a30",
   "metadata": {},
   "source": [
    "### Setup the Model and Train"
   ]
  },
  {
   "cell_type": "code",
   "execution_count": 81,
   "id": "4b6a6e49",
   "metadata": {},
   "outputs": [],
   "source": [
    "model = Pipeline([\n",
    "    ('tfidf', TfidfVectorizer(decode_error='ignore')),\n",
    "    ('SVD', TruncatedSVD(100)),\n",
    "    ('log_clf', LogisticRegression(n_jobs = 4))\n",
    "])"
   ]
  },
  {
   "cell_type": "code",
   "execution_count": 82,
   "id": "5d970d8d",
   "metadata": {},
   "outputs": [
    {
     "data": {
      "text/html": [
       "<style>#sk-container-id-3 {color: black;background-color: white;}#sk-container-id-3 pre{padding: 0;}#sk-container-id-3 div.sk-toggleable {background-color: white;}#sk-container-id-3 label.sk-toggleable__label {cursor: pointer;display: block;width: 100%;margin-bottom: 0;padding: 0.3em;box-sizing: border-box;text-align: center;}#sk-container-id-3 label.sk-toggleable__label-arrow:before {content: \"▸\";float: left;margin-right: 0.25em;color: #696969;}#sk-container-id-3 label.sk-toggleable__label-arrow:hover:before {color: black;}#sk-container-id-3 div.sk-estimator:hover label.sk-toggleable__label-arrow:before {color: black;}#sk-container-id-3 div.sk-toggleable__content {max-height: 0;max-width: 0;overflow: hidden;text-align: left;background-color: #f0f8ff;}#sk-container-id-3 div.sk-toggleable__content pre {margin: 0.2em;color: black;border-radius: 0.25em;background-color: #f0f8ff;}#sk-container-id-3 input.sk-toggleable__control:checked~div.sk-toggleable__content {max-height: 200px;max-width: 100%;overflow: auto;}#sk-container-id-3 input.sk-toggleable__control:checked~label.sk-toggleable__label-arrow:before {content: \"▾\";}#sk-container-id-3 div.sk-estimator input.sk-toggleable__control:checked~label.sk-toggleable__label {background-color: #d4ebff;}#sk-container-id-3 div.sk-label input.sk-toggleable__control:checked~label.sk-toggleable__label {background-color: #d4ebff;}#sk-container-id-3 input.sk-hidden--visually {border: 0;clip: rect(1px 1px 1px 1px);clip: rect(1px, 1px, 1px, 1px);height: 1px;margin: -1px;overflow: hidden;padding: 0;position: absolute;width: 1px;}#sk-container-id-3 div.sk-estimator {font-family: monospace;background-color: #f0f8ff;border: 1px dotted black;border-radius: 0.25em;box-sizing: border-box;margin-bottom: 0.5em;}#sk-container-id-3 div.sk-estimator:hover {background-color: #d4ebff;}#sk-container-id-3 div.sk-parallel-item::after {content: \"\";width: 100%;border-bottom: 1px solid gray;flex-grow: 1;}#sk-container-id-3 div.sk-label:hover label.sk-toggleable__label {background-color: #d4ebff;}#sk-container-id-3 div.sk-serial::before {content: \"\";position: absolute;border-left: 1px solid gray;box-sizing: border-box;top: 0;bottom: 0;left: 50%;z-index: 0;}#sk-container-id-3 div.sk-serial {display: flex;flex-direction: column;align-items: center;background-color: white;padding-right: 0.2em;padding-left: 0.2em;position: relative;}#sk-container-id-3 div.sk-item {position: relative;z-index: 1;}#sk-container-id-3 div.sk-parallel {display: flex;align-items: stretch;justify-content: center;background-color: white;position: relative;}#sk-container-id-3 div.sk-item::before, #sk-container-id-3 div.sk-parallel-item::before {content: \"\";position: absolute;border-left: 1px solid gray;box-sizing: border-box;top: 0;bottom: 0;left: 50%;z-index: -1;}#sk-container-id-3 div.sk-parallel-item {display: flex;flex-direction: column;z-index: 1;position: relative;background-color: white;}#sk-container-id-3 div.sk-parallel-item:first-child::after {align-self: flex-end;width: 50%;}#sk-container-id-3 div.sk-parallel-item:last-child::after {align-self: flex-start;width: 50%;}#sk-container-id-3 div.sk-parallel-item:only-child::after {width: 0;}#sk-container-id-3 div.sk-dashed-wrapped {border: 1px dashed gray;margin: 0 0.4em 0.5em 0.4em;box-sizing: border-box;padding-bottom: 0.4em;background-color: white;}#sk-container-id-3 div.sk-label label {font-family: monospace;font-weight: bold;display: inline-block;line-height: 1.2em;}#sk-container-id-3 div.sk-label-container {text-align: center;}#sk-container-id-3 div.sk-container {/* jupyter's `normalize.less` sets `[hidden] { display: none; }` but bootstrap.min.css set `[hidden] { display: none !important; }` so we also need the `!important` here to be able to override the default hidden behavior on the sphinx rendered scikit-learn.org. See: https://github.com/scikit-learn/scikit-learn/issues/21755 */display: inline-block !important;position: relative;}#sk-container-id-3 div.sk-text-repr-fallback {display: none;}</style><div id=\"sk-container-id-3\" class=\"sk-top-container\"><div class=\"sk-text-repr-fallback\"><pre>Pipeline(steps=[(&#x27;tfidf&#x27;, TfidfVectorizer(decode_error=&#x27;ignore&#x27;)),\n",
       "                (&#x27;SVD&#x27;, TruncatedSVD(n_components=100)),\n",
       "                (&#x27;log_clf&#x27;, LogisticRegression(n_jobs=4))])</pre><b>In a Jupyter environment, please rerun this cell to show the HTML representation or trust the notebook. <br />On GitHub, the HTML representation is unable to render, please try loading this page with nbviewer.org.</b></div><div class=\"sk-container\" hidden><div class=\"sk-item sk-dashed-wrapped\"><div class=\"sk-label-container\"><div class=\"sk-label sk-toggleable\"><input class=\"sk-toggleable__control sk-hidden--visually\" id=\"sk-estimator-id-9\" type=\"checkbox\" ><label for=\"sk-estimator-id-9\" class=\"sk-toggleable__label sk-toggleable__label-arrow\">Pipeline</label><div class=\"sk-toggleable__content\"><pre>Pipeline(steps=[(&#x27;tfidf&#x27;, TfidfVectorizer(decode_error=&#x27;ignore&#x27;)),\n",
       "                (&#x27;SVD&#x27;, TruncatedSVD(n_components=100)),\n",
       "                (&#x27;log_clf&#x27;, LogisticRegression(n_jobs=4))])</pre></div></div></div><div class=\"sk-serial\"><div class=\"sk-item\"><div class=\"sk-estimator sk-toggleable\"><input class=\"sk-toggleable__control sk-hidden--visually\" id=\"sk-estimator-id-10\" type=\"checkbox\" ><label for=\"sk-estimator-id-10\" class=\"sk-toggleable__label sk-toggleable__label-arrow\">TfidfVectorizer</label><div class=\"sk-toggleable__content\"><pre>TfidfVectorizer(decode_error=&#x27;ignore&#x27;)</pre></div></div></div><div class=\"sk-item\"><div class=\"sk-estimator sk-toggleable\"><input class=\"sk-toggleable__control sk-hidden--visually\" id=\"sk-estimator-id-11\" type=\"checkbox\" ><label for=\"sk-estimator-id-11\" class=\"sk-toggleable__label sk-toggleable__label-arrow\">TruncatedSVD</label><div class=\"sk-toggleable__content\"><pre>TruncatedSVD(n_components=100)</pre></div></div></div><div class=\"sk-item\"><div class=\"sk-estimator sk-toggleable\"><input class=\"sk-toggleable__control sk-hidden--visually\" id=\"sk-estimator-id-12\" type=\"checkbox\" ><label for=\"sk-estimator-id-12\" class=\"sk-toggleable__label sk-toggleable__label-arrow\">LogisticRegression</label><div class=\"sk-toggleable__content\"><pre>LogisticRegression(n_jobs=4)</pre></div></div></div></div></div></div></div>"
      ],
      "text/plain": [
       "Pipeline(steps=[('tfidf', TfidfVectorizer(decode_error='ignore')),\n",
       "                ('SVD', TruncatedSVD(n_components=100)),\n",
       "                ('log_clf', LogisticRegression(n_jobs=4))])"
      ]
     },
     "execution_count": 82,
     "metadata": {},
     "output_type": "execute_result"
    }
   ],
   "source": [
    "model.fit(X_train, y_train)"
   ]
  },
  {
   "cell_type": "markdown",
   "id": "820e04a1",
   "metadata": {},
   "source": [
    "### Evaluate the Result"
   ]
  },
  {
   "cell_type": "code",
   "execution_count": 83,
   "id": "ccf5fa30",
   "metadata": {},
   "outputs": [],
   "source": [
    "y_train_pred = model.predict(X_train)\n",
    "y_test_pred = model.predict(X_test)"
   ]
  },
  {
   "cell_type": "code",
   "execution_count": 84,
   "id": "23239649",
   "metadata": {},
   "outputs": [
    {
     "data": {
      "text/plain": [
       "0.5057333333333334"
      ]
     },
     "execution_count": 84,
     "metadata": {},
     "output_type": "execute_result"
    }
   ],
   "source": [
    "# test acc\n",
    "accuracy_score(y_test, y_test_pred)"
   ]
  },
  {
   "cell_type": "code",
   "execution_count": 85,
   "id": "5e4690d8",
   "metadata": {},
   "outputs": [
    {
     "data": {
      "image/png": "[encoded data removed]",
      "text/plain": [
       "<Figure size 500x500 with 2 Axes>"
      ]
     },
     "metadata": {},
     "output_type": "display_data"
    }
   ],
   "source": [
    "plot_cm(y_test, y_test_pred, \"Baseline: Tfidf Logistic Regression\")"
   ]
  },
  {
   "cell_type": "markdown",
   "id": "28b70cb8",
   "metadata": {},
   "source": [
    "### Reframe Problem into Binary Classification: Sentiment"
   ]
  },
  {
   "cell_type": "code",
   "execution_count": 86,
   "id": "760c23a3",
   "metadata": {},
   "outputs": [],
   "source": [
    "y_test_pn, y_pred_pn = extract_positive_negative(y_test, y_test_pred)"
   ]
  },
  {
   "cell_type": "code",
   "execution_count": 87,
   "id": "cfb84af4",
   "metadata": {},
   "outputs": [
    {
     "data": {
      "text/plain": [
       "0.9195728349741364"
      ]
     },
     "execution_count": 87,
     "metadata": {},
     "output_type": "execute_result"
    }
   ],
   "source": [
    "accuracy_score(y_test_pn, y_pred_pn)"
   ]
  },
  {
   "cell_type": "code",
   "execution_count": 88,
   "id": "ddcc8f24",
   "metadata": {},
   "outputs": [
    {
     "data": {
      "image/png": "[encoded data removed]",
      "text/plain": [
       "<Figure size 500x500 with 2 Axes>"
      ]
     },
     "metadata": {},
     "output_type": "display_data"
    }
   ],
   "source": [
    "plot_cm(y_test_pn, y_pred_pn, \"Baseline on Positive vs. Negative\", [0, 1])"
   ]
  },
  {
   "cell_type": "markdown",
   "id": "f4354c47",
   "metadata": {},
   "source": [
    "## Sub-Part (b): BERT"
   ]
  },
  {
   "cell_type": "markdown",
   "id": "e4de82d8",
   "metadata": {},
   "source": [
    "### Prepare DataLoader"
   ]
  },
  {
   "cell_type": "code",
   "execution_count": 26,
   "id": "8b5a995f",
   "metadata": {},
   "outputs": [],
   "source": [
    "class Review_dataset(Dataset):\n",
    "    def __init__(self, dataframe, tokenizer):\n",
    "\n",
    "        self.labels = (dataframe['star_rating']).to_numpy() - 1\n",
    "\n",
    "        self.texts = []\n",
    "        print(\"Tokenizing the data\")\n",
    "        for sentence in progress_bar(dataframe['review']):\n",
    "            self.texts.append(tokenizer(sentence, padding = 'max_length', max_length = max_len, truncation = True, \n",
    "                                       return_tensors='pt'))\n",
    "\n",
    "    def __len__(self):\n",
    "        return len(self.labels)\n",
    "\n",
    "    def get_batch_labels(self, idx):\n",
    "        return self.labels[idx]\n",
    "\n",
    "    def get_batch_texts(self, idx):\n",
    "        return self.texts[idx]\n",
    "\n",
    "    def __getitem__(self, idx):\n",
    "\n",
    "        batch_texts = self.get_batch_texts(idx)\n",
    "        batch_labels = self.get_batch_labels(idx)\n",
    "\n",
    "        return batch_texts.convert_to_tensors(), torch.tensor(batch_labels)"
   ]
  },
  {
   "cell_type": "code",
   "execution_count": 27,
   "id": "9fa26ca3",
   "metadata": {},
   "outputs": [],
   "source": [
    "# prepare tokenizer\n",
    "tokenizer = BertTokenizer.from_pretrained('bert-base-uncased')"
   ]
  },
  {
   "cell_type": "code",
   "execution_count": 28,
   "id": "6387055b",
   "metadata": {},
   "outputs": [
    {
     "name": "stdout",
     "output_type": "stream",
     "text": [
      "Tokenizing the data\n"
     ]
    },
    {
     "name": "stderr",
     "output_type": "stream",
     "text": [
      "100%|███████████████████████████████████████████████████████████████████████████| 60000/60000 [01:18<00:00, 767.09it/s]\n"
     ]
    },
    {
     "name": "stdout",
     "output_type": "stream",
     "text": [
      "Tokenizing the data\n"
     ]
    },
    {
     "name": "stderr",
     "output_type": "stream",
     "text": [
      "100%|█████████████████████████████████████████████████████████████████████████████| 7500/7500 [00:09<00:00, 796.83it/s]\n"
     ]
    },
    {
     "name": "stdout",
     "output_type": "stream",
     "text": [
      "Tokenizing the data\n"
     ]
    },
    {
     "name": "stderr",
     "output_type": "stream",
     "text": [
      "100%|█████████████████████████████████████████████████████████████████████████████| 7500/7500 [00:09<00:00, 763.69it/s]\n"
     ]
    }
   ],
   "source": [
    "# train dataloader\n",
    "train_dataset = Review_dataset(train_data, tokenizer)\n",
    "train_dataloader = DataLoader(train_dataset, sampler=RandomSampler(train_dataset), batch_size=batch_size)\n",
    "# validation dataloader\n",
    "valid_dataset = Review_dataset(valid_data, tokenizer)\n",
    "valid_dataloader = DataLoader(valid_dataset, sampler=SequentialSampler(valid_dataset), batch_size=batch_size)\n",
    "# test dataloader\n",
    "test_dataset = Review_dataset(test_data, tokenizer)\n",
    "test_dataloader = DataLoader(test_dataset, sampler=SequentialSampler(test_dataset), batch_size=batch_size)"
   ]
  },
  {
   "cell_type": "markdown",
   "id": "8a68872b",
   "metadata": {},
   "source": [
    "### PyTorch Lightning Model"
   ]
  },
  {
   "cell_type": "code",
   "execution_count": 29,
   "id": "8808482b",
   "metadata": {},
   "outputs": [],
   "source": [
    "class Review_Net(pl.LightningModule):\n",
    "    \"\"\"\n",
    "    Review Net is built as a classification network.\n",
    "    \n",
    "    It use pretrained BERT as decoder of one sentence, and use two fully \n",
    "    layers to connect to the output part. This is used for classification.\n",
    "    \n",
    "    Inputs:\n",
    "        \n",
    "    \n",
    "    \"\"\"\n",
    "    def __init__(self):\n",
    "        super().__init__()\n",
    "\n",
    "        # bert encoder part\n",
    "        self.encoder = BertModel.from_pretrained(\"bert-base-uncased\")\n",
    "        \n",
    "        self.dropout = nn.Dropout(dropout)\n",
    "\n",
    "#         for param in self.encoder.parameters():\n",
    "#             # don't train pre-trained BERT\n",
    "#             param.requires_grad = False\n",
    "        \n",
    "        # classifier part\n",
    "        self.fc = nn.Linear(768, 1024)\n",
    "        self.output = nn.Linear(1024, 5)\n",
    "        \n",
    "    def forward(self, input_id, mask):\n",
    "        \n",
    "        # bert encoder\n",
    "        _, pooled_output = self.encoder(input_ids = input_id, attention_mask=mask, return_dict = False)\n",
    "        \n",
    "        # dropout\n",
    "        dropout_output = self.dropout(pooled_output)\n",
    "        \n",
    "        # output layer\n",
    "        vector = nn.ReLU()(self.fc(dropout_output))\n",
    "        pred = self.output(vector)\n",
    "        \n",
    "        return pred\n",
    "    \n",
    "    def training_step(self, batch, batch_index):\n",
    "        # training loop\n",
    "    \n",
    "        texts, labels = batch\n",
    "        input_id = texts['input_ids'].squeeze(1)\n",
    "        mask = texts['attention_mask']\n",
    "        \n",
    "        logits = self(input_id, mask)\n",
    "        \n",
    "        loss = nn.CrossEntropyLoss()(logits, labels.long())\n",
    "        self.log(\"train_loss\", loss)\n",
    "        \n",
    "        acc = (logits.argmax(dim=1) == labels).float().mean().item()\n",
    "        self.log('train_accuracy', acc)\n",
    "        \n",
    "        return loss\n",
    "    \n",
    "    def configure_optimizers(self):\n",
    "        return torch.optim.Adam(self.parameters(), lr=learning_rate)\n",
    "    \n",
    "    def validation_step(self, batch, batch_index):\n",
    "        texts, labels = batch\n",
    "        input_id = texts['input_ids'].squeeze(1)\n",
    "        mask = texts['attention_mask']\n",
    "        \n",
    "        logits = self(input_id, mask)\n",
    "        \n",
    "        loss = nn.CrossEntropyLoss()(logits, labels.long())\n",
    "        self.log(\"valid_loss\", loss)\n",
    "        \n",
    "        acc = (logits.argmax(dim=1) == labels).float().mean().item()\n",
    "        self.log('valid_accuracy', acc)\n",
    "        \n",
    "        return loss\n",
    "    \n",
    "    def test_step(self, batch, batch_index):\n",
    "        texts, labels = batch\n",
    "        input_id = texts['input_ids'].squeeze(1)\n",
    "        mask = texts['attention_mask']\n",
    "        \n",
    "        logits = self(input_id, mask)\n",
    "        \n",
    "        loss = nn.CrossEntropyLoss()(logits, labels.long())\n",
    "        self.log(\"test_loss\", loss)\n",
    "        return loss"
   ]
  },
  {
   "cell_type": "markdown",
   "id": "8f2765a3",
   "metadata": {},
   "source": [
    "### Model Setup"
   ]
  },
  {
   "cell_type": "code",
   "execution_count": 30,
   "id": "6061dd05",
   "metadata": {},
   "outputs": [],
   "source": [
    "# set up the early stopping \n",
    "early_stop_callback = EarlyStopping(monitor='valid_loss', patience=10, mode=\"min\")"
   ]
  },
  {
   "cell_type": "code",
   "execution_count": 31,
   "id": "ab71147b",
   "metadata": {},
   "outputs": [],
   "source": [
    "# set up the logger\n",
    "logger = TensorBoardLogger(save_dir='lightning_logs/')"
   ]
  },
  {
   "cell_type": "code",
   "execution_count": 32,
   "id": "85a901a3",
   "metadata": {},
   "outputs": [
    {
     "name": "stderr",
     "output_type": "stream",
     "text": [
      "Some weights of the model checkpoint at bert-base-uncased were not used when initializing BertModel: ['cls.predictions.transform.LayerNorm.bias', 'cls.predictions.transform.dense.bias', 'cls.seq_relationship.weight', 'cls.predictions.decoder.weight', 'cls.predictions.transform.LayerNorm.weight', 'cls.predictions.transform.dense.weight', 'cls.seq_relationship.bias', 'cls.predictions.bias']\n",
      "- This IS expected if you are initializing BertModel from the checkpoint of a model trained on another task or with another architecture (e.g. initializing a BertForSequenceClassification model from a BertForPreTraining model).\n",
      "- This IS NOT expected if you are initializing BertModel from the checkpoint of a model that you expect to be exactly identical (initializing a BertForSequenceClassification model from a BertForSequenceClassification model).\n"
     ]
    }
   ],
   "source": [
    "bert_model = Review_Net()"
   ]
  },
  {
   "cell_type": "code",
   "execution_count": 33,
   "id": "224eb9ed",
   "metadata": {},
   "outputs": [
    {
     "name": "stderr",
     "output_type": "stream",
     "text": [
      "GPU available: True (cuda), used: True\n",
      "TPU available: False, using: 0 TPU cores\n",
      "IPU available: False, using: 0 IPUs\n",
      "HPU available: False, using: 0 HPUs\n"
     ]
    }
   ],
   "source": [
    "trainer = pl.Trainer(max_epochs=50, devices=1, accelerator='gpu', callbacks=[early_stop_callback], logger=logger, \n",
    "                     val_check_interval=0.2)"
   ]
  },
  {
   "cell_type": "markdown",
   "id": "9ea65e22",
   "metadata": {},
   "source": [
    "### Training"
   ]
  },
  {
   "cell_type": "code",
   "execution_count": 34,
   "id": "7d558dd9",
   "metadata": {
    "scrolled": false
   },
   "outputs": [
    {
     "name": "stderr",
     "output_type": "stream",
     "text": [
      "LOCAL_RANK: 0 - CUDA_VISIBLE_DEVICES: [0]\n",
      "\n",
      "  | Name    | Type      | Params\n",
      "--------------------------------------\n",
      "0 | encoder | BertModel | 109 M \n",
      "1 | dropout | Dropout   | 0     \n",
      "2 | fc      | Linear    | 787 K \n",
      "3 | output  | Linear    | 5.1 K \n",
      "--------------------------------------\n",
      "110 M     Trainable params\n",
      "0         Non-trainable params\n",
      "110 M     Total params\n",
      "441.099   Total estimated model params size (MB)\n"
     ]
    },
    {
     "data": {
      "application/vnd.jupyter.widget-view+json": {
       "model_id": "",
       "version_major": 2,
       "version_minor": 0
      },
      "text/plain": [
       "Sanity Checking: 0it [00:00, ?it/s]"
      ]
     },
     "metadata": {},
     "output_type": "display_data"
    },
    {
     "name": "stderr",
     "output_type": "stream",
     "text": [
      "c:\\ProgramData\\Anaconda3\\envs\\deeplearning\\lib\\site-packages\\pytorch_lightning\\trainer\\connectors\\data_connector.py:224: PossibleUserWarning: The dataloader, val_dataloader 0, does not have many workers which may be a bottleneck. Consider increasing the value of the `num_workers` argument` (try 12 which is the number of cpus on this machine) in the `DataLoader` init to improve performance.\n",
      "  rank_zero_warn(\n",
      "c:\\ProgramData\\Anaconda3\\envs\\deeplearning\\lib\\site-packages\\pytorch_lightning\\trainer\\connectors\\data_connector.py:224: PossibleUserWarning: The dataloader, train_dataloader, does not have many workers which may be a bottleneck. Consider increasing the value of the `num_workers` argument` (try 12 which is the number of cpus on this machine) in the `DataLoader` init to improve performance.\n",
      "  rank_zero_warn(\n"
     ]
    },
    {
     "data": {
      "application/vnd.jupyter.widget-view+json": {
       "model_id": "badbf247aed54c65851ca0f95a18e8d9",
       "version_major": 2,
       "version_minor": 0
      },
      "text/plain": [
       "Training: 0it [00:00, ?it/s]"
      ]
     },
     "metadata": {},
     "output_type": "display_data"
    },
    {
     "data": {
      "application/vnd.jupyter.widget-view+json": {
       "model_id": "",
       "version_major": 2,
       "version_minor": 0
      },
      "text/plain": [
       "Validation: 0it [00:00, ?it/s]"
      ]
     },
     "metadata": {},
     "output_type": "display_data"
    },
    {
     "data": {
      "application/vnd.jupyter.widget-view+json": {
       "model_id": "",
       "version_major": 2,
       "version_minor": 0
      },
      "text/plain": [
       "Validation: 0it [00:00, ?it/s]"
      ]
     },
     "metadata": {},
     "output_type": "display_data"
    },
    {
     "data": {
      "application/vnd.jupyter.widget-view+json": {
       "model_id": "",
       "version_major": 2,
       "version_minor": 0
      },
      "text/plain": [
       "Validation: 0it [00:00, ?it/s]"
      ]
     },
     "metadata": {},
     "output_type": "display_data"
    },
    {
     "data": {
      "application/vnd.jupyter.widget-view+json": {
       "model_id": "",
       "version_major": 2,
       "version_minor": 0
      },
      "text/plain": [
       "Validation: 0it [00:00, ?it/s]"
      ]
     },
     "metadata": {},
     "output_type": "display_data"
    },
    {
     "data": {
      "application/vnd.jupyter.widget-view+json": {
       "model_id": "",
       "version_major": 2,
       "version_minor": 0
      },
      "text/plain": [
       "Validation: 0it [00:00, ?it/s]"
      ]
     },
     "metadata": {},
     "output_type": "display_data"
    },
    {
     "data": {
      "application/vnd.jupyter.widget-view+json": {
       "model_id": "",
       "version_major": 2,
       "version_minor": 0
      },
      "text/plain": [
       "Validation: 0it [00:00, ?it/s]"
      ]
     },
     "metadata": {},
     "output_type": "display_data"
    },
    {
     "data": {
      "application/vnd.jupyter.widget-view+json": {
       "model_id": "",
       "version_major": 2,
       "version_minor": 0
      },
      "text/plain": [
       "Validation: 0it [00:00, ?it/s]"
      ]
     },
     "metadata": {},
     "output_type": "display_data"
    },
    {
     "data": {
      "application/vnd.jupyter.widget-view+json": {
       "model_id": "",
       "version_major": 2,
       "version_minor": 0
      },
      "text/plain": [
       "Validation: 0it [00:00, ?it/s]"
      ]
     },
     "metadata": {},
     "output_type": "display_data"
    },
    {
     "data": {
      "application/vnd.jupyter.widget-view+json": {
       "model_id": "",
       "version_major": 2,
       "version_minor": 0
      },
      "text/plain": [
       "Validation: 0it [00:00, ?it/s]"
      ]
     },
     "metadata": {},
     "output_type": "display_data"
    },
    {
     "data": {
      "application/vnd.jupyter.widget-view+json": {
       "model_id": "",
       "version_major": 2,
       "version_minor": 0
      },
      "text/plain": [
       "Validation: 0it [00:00, ?it/s]"
      ]
     },
     "metadata": {},
     "output_type": "display_data"
    },
    {
     "data": {
      "application/vnd.jupyter.widget-view+json": {
       "model_id": "",
       "version_major": 2,
       "version_minor": 0
      },
      "text/plain": [
       "Validation: 0it [00:00, ?it/s]"
      ]
     },
     "metadata": {},
     "output_type": "display_data"
    },
    {
     "data": {
      "application/vnd.jupyter.widget-view+json": {
       "model_id": "",
       "version_major": 2,
       "version_minor": 0
      },
      "text/plain": [
       "Validation: 0it [00:00, ?it/s]"
      ]
     },
     "metadata": {},
     "output_type": "display_data"
    },
    {
     "data": {
      "application/vnd.jupyter.widget-view+json": {
       "model_id": "",
       "version_major": 2,
       "version_minor": 0
      },
      "text/plain": [
       "Validation: 0it [00:00, ?it/s]"
      ]
     },
     "metadata": {},
     "output_type": "display_data"
    },
    {
     "data": {
      "application/vnd.jupyter.widget-view+json": {
       "model_id": "",
       "version_major": 2,
       "version_minor": 0
      },
      "text/plain": [
       "Validation: 0it [00:00, ?it/s]"
      ]
     },
     "metadata": {},
     "output_type": "display_data"
    },
    {
     "data": {
      "application/vnd.jupyter.widget-view+json": {
       "model_id": "",
       "version_major": 2,
       "version_minor": 0
      },
      "text/plain": [
       "Validation: 0it [00:00, ?it/s]"
      ]
     },
     "metadata": {},
     "output_type": "display_data"
    },
    {
     "data": {
      "application/vnd.jupyter.widget-view+json": {
       "model_id": "",
       "version_major": 2,
       "version_minor": 0
      },
      "text/plain": [
       "Validation: 0it [00:00, ?it/s]"
      ]
     },
     "metadata": {},
     "output_type": "display_data"
    },
    {
     "data": {
      "application/vnd.jupyter.widget-view+json": {
       "model_id": "",
       "version_major": 2,
       "version_minor": 0
      },
      "text/plain": [
       "Validation: 0it [00:00, ?it/s]"
      ]
     },
     "metadata": {},
     "output_type": "display_data"
    },
    {
     "data": {
      "application/vnd.jupyter.widget-view+json": {
       "model_id": "",
       "version_major": 2,
       "version_minor": 0
      },
      "text/plain": [
       "Validation: 0it [00:00, ?it/s]"
      ]
     },
     "metadata": {},
     "output_type": "display_data"
    },
    {
     "data": {
      "application/vnd.jupyter.widget-view+json": {
       "model_id": "",
       "version_major": 2,
       "version_minor": 0
      },
      "text/plain": [
       "Validation: 0it [00:00, ?it/s]"
      ]
     },
     "metadata": {},
     "output_type": "display_data"
    },
    {
     "data": {
      "application/vnd.jupyter.widget-view+json": {
       "model_id": "",
       "version_major": 2,
       "version_minor": 0
      },
      "text/plain": [
       "Validation: 0it [00:00, ?it/s]"
      ]
     },
     "metadata": {},
     "output_type": "display_data"
    },
    {
     "data": {
      "application/vnd.jupyter.widget-view+json": {
       "model_id": "",
       "version_major": 2,
       "version_minor": 0
      },
      "text/plain": [
       "Validation: 0it [00:00, ?it/s]"
      ]
     },
     "metadata": {},
     "output_type": "display_data"
    },
    {
     "data": {
      "application/vnd.jupyter.widget-view+json": {
       "model_id": "",
       "version_major": 2,
       "version_minor": 0
      },
      "text/plain": [
       "Validation: 0it [00:00, ?it/s]"
      ]
     },
     "metadata": {},
     "output_type": "display_data"
    },
    {
     "data": {
      "application/vnd.jupyter.widget-view+json": {
       "model_id": "",
       "version_major": 2,
       "version_minor": 0
      },
      "text/plain": [
       "Validation: 0it [00:00, ?it/s]"
      ]
     },
     "metadata": {},
     "output_type": "display_data"
    },
    {
     "data": {
      "application/vnd.jupyter.widget-view+json": {
       "model_id": "",
       "version_major": 2,
       "version_minor": 0
      },
      "text/plain": [
       "Validation: 0it [00:00, ?it/s]"
      ]
     },
     "metadata": {},
     "output_type": "display_data"
    },
    {
     "data": {
      "application/vnd.jupyter.widget-view+json": {
       "model_id": "",
       "version_major": 2,
       "version_minor": 0
      },
      "text/plain": [
       "Validation: 0it [00:00, ?it/s]"
      ]
     },
     "metadata": {},
     "output_type": "display_data"
    },
    {
     "data": {
      "application/vnd.jupyter.widget-view+json": {
       "model_id": "",
       "version_major": 2,
       "version_minor": 0
      },
      "text/plain": [
       "Validation: 0it [00:00, ?it/s]"
      ]
     },
     "metadata": {},
     "output_type": "display_data"
    },
    {
     "data": {
      "application/vnd.jupyter.widget-view+json": {
       "model_id": "",
       "version_major": 2,
       "version_minor": 0
      },
      "text/plain": [
       "Validation: 0it [00:00, ?it/s]"
      ]
     },
     "metadata": {},
     "output_type": "display_data"
    },
    {
     "data": {
      "application/vnd.jupyter.widget-view+json": {
       "model_id": "",
       "version_major": 2,
       "version_minor": 0
      },
      "text/plain": [
       "Validation: 0it [00:00, ?it/s]"
      ]
     },
     "metadata": {},
     "output_type": "display_data"
    },
    {
     "data": {
      "application/vnd.jupyter.widget-view+json": {
       "model_id": "",
       "version_major": 2,
       "version_minor": 0
      },
      "text/plain": [
       "Validation: 0it [00:00, ?it/s]"
      ]
     },
     "metadata": {},
     "output_type": "display_data"
    },
    {
     "data": {
      "application/vnd.jupyter.widget-view+json": {
       "model_id": "",
       "version_major": 2,
       "version_minor": 0
      },
      "text/plain": [
       "Validation: 0it [00:00, ?it/s]"
      ]
     },
     "metadata": {},
     "output_type": "display_data"
    },
    {
     "data": {
      "application/vnd.jupyter.widget-view+json": {
       "model_id": "",
       "version_major": 2,
       "version_minor": 0
      },
      "text/plain": [
       "Validation: 0it [00:00, ?it/s]"
      ]
     },
     "metadata": {},
     "output_type": "display_data"
    },
    {
     "data": {
      "application/vnd.jupyter.widget-view+json": {
       "model_id": "",
       "version_major": 2,
       "version_minor": 0
      },
      "text/plain": [
       "Validation: 0it [00:00, ?it/s]"
      ]
     },
     "metadata": {},
     "output_type": "display_data"
    },
    {
     "data": {
      "application/vnd.jupyter.widget-view+json": {
       "model_id": "",
       "version_major": 2,
       "version_minor": 0
      },
      "text/plain": [
       "Validation: 0it [00:00, ?it/s]"
      ]
     },
     "metadata": {},
     "output_type": "display_data"
    },
    {
     "data": {
      "application/vnd.jupyter.widget-view+json": {
       "model_id": "",
       "version_major": 2,
       "version_minor": 0
      },
      "text/plain": [
       "Validation: 0it [00:00, ?it/s]"
      ]
     },
     "metadata": {},
     "output_type": "display_data"
    },
    {
     "data": {
      "application/vnd.jupyter.widget-view+json": {
       "model_id": "",
       "version_major": 2,
       "version_minor": 0
      },
      "text/plain": [
       "Validation: 0it [00:00, ?it/s]"
      ]
     },
     "metadata": {},
     "output_type": "display_data"
    },
    {
     "data": {
      "application/vnd.jupyter.widget-view+json": {
       "model_id": "",
       "version_major": 2,
       "version_minor": 0
      },
      "text/plain": [
       "Validation: 0it [00:00, ?it/s]"
      ]
     },
     "metadata": {},
     "output_type": "display_data"
    },
    {
     "data": {
      "application/vnd.jupyter.widget-view+json": {
       "model_id": "",
       "version_major": 2,
       "version_minor": 0
      },
      "text/plain": [
       "Validation: 0it [00:00, ?it/s]"
      ]
     },
     "metadata": {},
     "output_type": "display_data"
    },
    {
     "data": {
      "application/vnd.jupyter.widget-view+json": {
       "model_id": "",
       "version_major": 2,
       "version_minor": 0
      },
      "text/plain": [
       "Validation: 0it [00:00, ?it/s]"
      ]
     },
     "metadata": {},
     "output_type": "display_data"
    },
    {
     "data": {
      "application/vnd.jupyter.widget-view+json": {
       "model_id": "",
       "version_major": 2,
       "version_minor": 0
      },
      "text/plain": [
       "Validation: 0it [00:00, ?it/s]"
      ]
     },
     "metadata": {},
     "output_type": "display_data"
    },
    {
     "data": {
      "application/vnd.jupyter.widget-view+json": {
       "model_id": "",
       "version_major": 2,
       "version_minor": 0
      },
      "text/plain": [
       "Validation: 0it [00:00, ?it/s]"
      ]
     },
     "metadata": {},
     "output_type": "display_data"
    },
    {
     "data": {
      "application/vnd.jupyter.widget-view+json": {
       "model_id": "",
       "version_major": 2,
       "version_minor": 0
      },
      "text/plain": [
       "Validation: 0it [00:00, ?it/s]"
      ]
     },
     "metadata": {},
     "output_type": "display_data"
    },
    {
     "data": {
      "application/vnd.jupyter.widget-view+json": {
       "model_id": "",
       "version_major": 2,
       "version_minor": 0
      },
      "text/plain": [
       "Validation: 0it [00:00, ?it/s]"
      ]
     },
     "metadata": {},
     "output_type": "display_data"
    },
    {
     "data": {
      "application/vnd.jupyter.widget-view+json": {
       "model_id": "",
       "version_major": 2,
       "version_minor": 0
      },
      "text/plain": [
       "Validation: 0it [00:00, ?it/s]"
      ]
     },
     "metadata": {},
     "output_type": "display_data"
    },
    {
     "data": {
      "application/vnd.jupyter.widget-view+json": {
       "model_id": "",
       "version_major": 2,
       "version_minor": 0
      },
      "text/plain": [
       "Validation: 0it [00:00, ?it/s]"
      ]
     },
     "metadata": {},
     "output_type": "display_data"
    },
    {
     "data": {
      "application/vnd.jupyter.widget-view+json": {
       "model_id": "",
       "version_major": 2,
       "version_minor": 0
      },
      "text/plain": [
       "Validation: 0it [00:00, ?it/s]"
      ]
     },
     "metadata": {},
     "output_type": "display_data"
    },
    {
     "data": {
      "application/vnd.jupyter.widget-view+json": {
       "model_id": "",
       "version_major": 2,
       "version_minor": 0
      },
      "text/plain": [
       "Validation: 0it [00:00, ?it/s]"
      ]
     },
     "metadata": {},
     "output_type": "display_data"
    },
    {
     "data": {
      "application/vnd.jupyter.widget-view+json": {
       "model_id": "",
       "version_major": 2,
       "version_minor": 0
      },
      "text/plain": [
       "Validation: 0it [00:00, ?it/s]"
      ]
     },
     "metadata": {},
     "output_type": "display_data"
    },
    {
     "data": {
      "application/vnd.jupyter.widget-view+json": {
       "model_id": "",
       "version_major": 2,
       "version_minor": 0
      },
      "text/plain": [
       "Validation: 0it [00:00, ?it/s]"
      ]
     },
     "metadata": {},
     "output_type": "display_data"
    },
    {
     "data": {
      "application/vnd.jupyter.widget-view+json": {
       "model_id": "",
       "version_major": 2,
       "version_minor": 0
      },
      "text/plain": [
       "Validation: 0it [00:00, ?it/s]"
      ]
     },
     "metadata": {},
     "output_type": "display_data"
    },
    {
     "data": {
      "application/vnd.jupyter.widget-view+json": {
       "model_id": "",
       "version_major": 2,
       "version_minor": 0
      },
      "text/plain": [
       "Validation: 0it [00:00, ?it/s]"
      ]
     },
     "metadata": {},
     "output_type": "display_data"
    },
    {
     "data": {
      "application/vnd.jupyter.widget-view+json": {
       "model_id": "",
       "version_major": 2,
       "version_minor": 0
      },
      "text/plain": [
       "Validation: 0it [00:00, ?it/s]"
      ]
     },
     "metadata": {},
     "output_type": "display_data"
    },
    {
     "data": {
      "application/vnd.jupyter.widget-view+json": {
       "model_id": "",
       "version_major": 2,
       "version_minor": 0
      },
      "text/plain": [
       "Validation: 0it [00:00, ?it/s]"
      ]
     },
     "metadata": {},
     "output_type": "display_data"
    },
    {
     "data": {
      "application/vnd.jupyter.widget-view+json": {
       "model_id": "",
       "version_major": 2,
       "version_minor": 0
      },
      "text/plain": [
       "Validation: 0it [00:00, ?it/s]"
      ]
     },
     "metadata": {},
     "output_type": "display_data"
    },
    {
     "data": {
      "application/vnd.jupyter.widget-view+json": {
       "model_id": "",
       "version_major": 2,
       "version_minor": 0
      },
      "text/plain": [
       "Validation: 0it [00:00, ?it/s]"
      ]
     },
     "metadata": {},
     "output_type": "display_data"
    },
    {
     "data": {
      "application/vnd.jupyter.widget-view+json": {
       "model_id": "",
       "version_major": 2,
       "version_minor": 0
      },
      "text/plain": [
       "Validation: 0it [00:00, ?it/s]"
      ]
     },
     "metadata": {},
     "output_type": "display_data"
    },
    {
     "data": {
      "application/vnd.jupyter.widget-view+json": {
       "model_id": "",
       "version_major": 2,
       "version_minor": 0
      },
      "text/plain": [
       "Validation: 0it [00:00, ?it/s]"
      ]
     },
     "metadata": {},
     "output_type": "display_data"
    },
    {
     "data": {
      "application/vnd.jupyter.widget-view+json": {
       "model_id": "",
       "version_major": 2,
       "version_minor": 0
      },
      "text/plain": [
       "Validation: 0it [00:00, ?it/s]"
      ]
     },
     "metadata": {},
     "output_type": "display_data"
    },
    {
     "data": {
      "application/vnd.jupyter.widget-view+json": {
       "model_id": "",
       "version_major": 2,
       "version_minor": 0
      },
      "text/plain": [
       "Validation: 0it [00:00, ?it/s]"
      ]
     },
     "metadata": {},
     "output_type": "display_data"
    },
    {
     "data": {
      "application/vnd.jupyter.widget-view+json": {
       "model_id": "",
       "version_major": 2,
       "version_minor": 0
      },
      "text/plain": [
       "Validation: 0it [00:00, ?it/s]"
      ]
     },
     "metadata": {},
     "output_type": "display_data"
    },
    {
     "name": "stdout",
     "output_type": "stream",
     "text": [
      "CPU times: total: 4h 22min 42s\n",
      "Wall time: 4h 23min 34s\n"
     ]
    }
   ],
   "source": [
    "%%time\n",
    "trainer.fit(bert_model, train_dataloader, valid_dataloader)"
   ]
  },
  {
   "cell_type": "markdown",
   "id": "5f444bef",
   "metadata": {},
   "source": [
    "### Evaluate the Result"
   ]
  },
  {
   "cell_type": "code",
   "execution_count": 35,
   "id": "b4b59b49",
   "metadata": {},
   "outputs": [
    {
     "name": "stderr",
     "output_type": "stream",
     "text": [
      "LOCAL_RANK: 0 - CUDA_VISIBLE_DEVICES: [0]\n",
      "c:\\ProgramData\\Anaconda3\\envs\\deeplearning\\lib\\site-packages\\pytorch_lightning\\trainer\\connectors\\data_connector.py:224: PossibleUserWarning: The dataloader, test_dataloader 0, does not have many workers which may be a bottleneck. Consider increasing the value of the `num_workers` argument` (try 12 which is the number of cpus on this machine) in the `DataLoader` init to improve performance.\n",
      "  rank_zero_warn(\n"
     ]
    },
    {
     "data": {
      "application/vnd.jupyter.widget-view+json": {
       "model_id": "264d7ac859ea4d2a8d633ec843118d77",
       "version_major": 2,
       "version_minor": 0
      },
      "text/plain": [
       "Testing: 0it [00:00, ?it/s]"
      ]
     },
     "metadata": {},
     "output_type": "display_data"
    },
    {
     "name": "stdout",
     "output_type": "stream",
     "text": [
      "────────────────────────────────────────────────────────────────────────────────────────────────────────────────────────\r\n",
      "       Test metric             DataLoader 0\r\n",
      "────────────────────────────────────────────────────────────────────────────────────────────────────────────────────────\r\n",
      "        test_loss           0.8682119250297546\r\n",
      "────────────────────────────────────────────────────────────────────────────────────────────────────────────────────────\n"
     ]
    },
    {
     "data": {
      "text/plain": [
       "[{'test_loss': 0.8682119250297546}]"
      ]
     },
     "execution_count": 35,
     "metadata": {},
     "output_type": "execute_result"
    }
   ],
   "source": [
    "trainer.test(model, test_dataloader)"
   ]
  },
  {
   "cell_type": "code",
   "execution_count": 36,
   "id": "2db89dfa",
   "metadata": {},
   "outputs": [],
   "source": [
    "with torch.no_grad():\n",
    "    bert_model = bert_model.cuda()\n",
    "    \n",
    "    preds_lst = []\n",
    "    labels_lst = []\n",
    "    \n",
    "    for test_input, test_label in test_dataloader:\n",
    "\n",
    "        test_label = test_label.to(device)\n",
    "        mask = test_input['attention_mask'].to(device)\n",
    "        input_id = test_input['input_ids'].squeeze(1).to(device)\n",
    "\n",
    "        output = bert_model(input_id, mask).argmax(dim=1)\n",
    "        for pred, label in zip(output, test_label):\n",
    "            preds_lst.append(pred.item())\n",
    "            labels_lst.append(label.item())"
   ]
  },
  {
   "cell_type": "code",
   "execution_count": 37,
   "id": "8ac15e1b",
   "metadata": {},
   "outputs": [
    {
     "data": {
      "text/plain": [
       "0.6261333333333333"
      ]
     },
     "execution_count": 37,
     "metadata": {},
     "output_type": "execute_result"
    }
   ],
   "source": [
    "accuracy_score(labels_lst, preds_lst)"
   ]
  },
  {
   "cell_type": "code",
   "execution_count": 38,
   "id": "a766ec58",
   "metadata": {},
   "outputs": [
    {
     "data": {
      "image/png": "[encoded data removed]",
      "text/plain": [
       "<Figure size 500x500 with 2 Axes>"
      ]
     },
     "metadata": {},
     "output_type": "display_data"
    }
   ],
   "source": [
    "plot_cm(labels_lst, preds_lst, \"BERT\")"
   ]
  },
  {
   "cell_type": "markdown",
   "id": "77e025b1",
   "metadata": {},
   "source": [
    "### Reframe Problem into Binary Classification: Sentiment"
   ]
  },
  {
   "cell_type": "code",
   "execution_count": 71,
   "id": "945a1873",
   "metadata": {},
   "outputs": [],
   "source": [
    "test_pn, pred_pn = extract_positive_negative(labels_lst, preds_lst)"
   ]
  },
  {
   "cell_type": "code",
   "execution_count": 72,
   "id": "1e4fda44",
   "metadata": {},
   "outputs": [
    {
     "data": {
      "text/plain": [
       "0.9834095141357712"
      ]
     },
     "execution_count": 72,
     "metadata": {},
     "output_type": "execute_result"
    }
   ],
   "source": [
    "accuracy_score(y_test_pn, y_pred_pn)"
   ]
  },
  {
   "cell_type": "code",
   "execution_count": 73,
   "id": "d93ee45d",
   "metadata": {},
   "outputs": [
    {
     "data": {
      "image/png": "[encoded data removed]",
      "text/plain": [
       "<Figure size 500x500 with 2 Axes>"
      ]
     },
     "metadata": {},
     "output_type": "display_data"
    }
   ],
   "source": [
    "plot_cm(y_test_pn, y_pred_pn, 'Bert on Positive vs. Negative', [0, 1])"
   ]
  }
 ],
 "metadata": {
  "kernelspec": {
   "display_name": "Python 3 (ipykernel)",
   "language": "python",
   "name": "python3"
  },
  "language_info": {
   "codemirror_mode": {
    "name": "ipython",
    "version": 3
   },
   "file_extension": ".py",
   "mimetype": "text/x-python",
   "name": "python",
   "nbconvert_exporter": "python",
   "pygments_lexer": "ipython3",
   "version": "3.9.13"
  }
 },
 "nbformat": 4,
 "nbformat_minor": 5
}
